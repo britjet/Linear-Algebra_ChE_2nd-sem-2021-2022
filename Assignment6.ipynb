{
  "nbformat": 4,
  "nbformat_minor": 0,
  "metadata": {
    "colab": {
      "name": "Assignment6",
      "provenance": [],
      "collapsed_sections": [],
      "authorship_tag": "ABX9TyO8BaVPBx0mY4lPeDrnO6L0",
      "include_colab_link": true
    },
    "kernelspec": {
      "name": "python3",
      "display_name": "Python 3"
    },
    "language_info": {
      "name": "python"
    }
  },
  "cells": [
    {
      "cell_type": "markdown",
      "metadata": {
        "id": "view-in-github",
        "colab_type": "text"
      },
      "source": [
        "<a href=\"https://colab.research.google.com/github/britjet/Linear-Algebra_ChE_2nd-sem-2021-2022/blob/main/Assignment6.ipynb\" target=\"_parent\"><img src=\"https://colab.research.google.com/assets/colab-badge.svg\" alt=\"Open In Colab\"/></a>"
      ]
    },
    {
      "cell_type": "markdown",
      "source": [
        "#Laboratory 6: Matrix Operation"
      ],
      "metadata": {
        "id": "bAgYHtsaS96Q"
      }
    },
    {
      "cell_type": "markdown",
      "source": [
        "Objectives\n",
        "\n",
        "At the end of this activity you will be able to:\n",
        "\n",
        "1. Understand the fundamental matrix operations.\n",
        "2. Solve intermediate equations using the procedures.\n",
        "3. In engineering solutions, use matrix algebra."
      ],
      "metadata": {
        "id": "SO0dH0reTNaf"
      }
    },
    {
      "cell_type": "markdown",
      "source": [
        "##Discussion"
      ],
      "metadata": {
        "id": "y0PmHudoViEP"
      }
    },
    {
      "cell_type": "code",
      "execution_count": null,
      "metadata": {
        "id": "49YKsSPRS3RT"
      },
      "outputs": [],
      "source": [
        "import numpy as np\n",
        "import matplotib.pyplot as plt\n",
        "%matplotlib inline"
      ]
    },
    {
      "cell_type": "markdown",
      "source": [
        "##Transposition"
      ],
      "metadata": {
        "id": "IIdckyjjVyB_"
      }
    },
    {
      "cell_type": "markdown",
      "source": [
        "Transposition is a fundamental operation in matrix algebra and is one of its most critical applications. The transposition of a matrix is accomplished by flipping its members' values over the matrix's diagonals. The rows and columns of the original matrix will be swapped due to this. As a result, the symbol $A^T$ indicates the transpose of matrix $A$. As an illustration, consider the following:"
      ],
      "metadata": {
        "id": "qRdsleXmfG8p"
      }
    },
    {
      "cell_type": "markdown",
      "source": [
        "$$A = \\begin{bmatrix} 2 & 5 & 8\\\\5 & -6 &1 \\\\ 10 & -8 & 3\\end{bmatrix} $$"
      ],
      "metadata": {
        "id": "wgmX86vgf1HL"
      }
    },
    {
      "cell_type": "markdown",
      "source": [
        "$$ A^T = \\begin{bmatrix} 2 & 3 & 8\\\\5 & -1 &-9 \\\\ 7 & 10 & 5\\end{bmatrix}$$"
      ],
      "metadata": {
        "id": "5eme-jVWgEIJ"
      }
    },
    {
      "cell_type": "markdown",
      "source": [
        "This may now be accomplished programmatically through the use of the np.transpose() function or the T method."
      ],
      "metadata": {
        "id": "weBLdl9HgXtg"
      }
    },
    {
      "cell_type": "code",
      "source": [
        "A = np.array([\n",
        "    [3 ,9, 7],\n",
        "    [4, -5, 0],\n",
        "    [5, -2, 5]\n",
        "])\n",
        "A"
      ],
      "metadata": {
        "id": "mp3cQxQegZZq"
      },
      "execution_count": null,
      "outputs": []
    },
    {
      "cell_type": "code",
      "source": [
        "AT1 = np.transpose(A)\n",
        "AT1"
      ],
      "metadata": {
        "id": "oAv3cKrkg6Bn"
      },
      "execution_count": null,
      "outputs": []
    },
    {
      "cell_type": "code",
      "source": [
        "AT2 = A.T\n",
        "AT2"
      ],
      "metadata": {
        "id": "9XzEnuYYg8A3"
      },
      "execution_count": null,
      "outputs": []
    },
    {
      "cell_type": "code",
      "source": [
        "np.array_equiv(AT1, AT2)"
      ],
      "metadata": {
        "id": "wPbg8SKpg-Rn"
      },
      "execution_count": null,
      "outputs": []
    },
    {
      "cell_type": "code",
      "source": [
        "B = np.array([\n",
        "    [2,4,6,8],\n",
        "    [3,6,9,12],\n",
        "])\n",
        "B.shape"
      ],
      "metadata": {
        "id": "_nzdkeYYhG7P"
      },
      "execution_count": null,
      "outputs": []
    },
    {
      "cell_type": "code",
      "source": [
        "np.transpose(B).shape"
      ],
      "metadata": {
        "id": "__fwJlh0hbPn"
      },
      "execution_count": null,
      "outputs": []
    },
    {
      "cell_type": "code",
      "source": [
        "B.T.shape"
      ],
      "metadata": {
        "id": "CEaLsDdfhcAX"
      },
      "execution_count": null,
      "outputs": []
    },
    {
      "cell_type": "markdown",
      "source": [
        "#### Create your own matrix (you can experiment with non-squares) and use it to test transposition."
      ],
      "metadata": {
        "id": "lo1vfuj-hg3W"
      }
    },
    {
      "cell_type": "code",
      "source": [
        "## Try out your code here.\n",
        "Z=np.array([\n",
        "    [5,7,9],\n",
        "    [4,8,10]        \n",
        "])\n",
        "Z.shape"
      ],
      "metadata": {
        "id": "BzgtUSJ0hpCh"
      },
      "execution_count": null,
      "outputs": []
    },
    {
      "cell_type": "code",
      "source": [
        "np.transpose(Z).shape"
      ],
      "metadata": {
        "id": "lAtNi3gthwqH"
      },
      "execution_count": null,
      "outputs": []
    },
    {
      "cell_type": "code",
      "source": [
        "Z.T.shape"
      ],
      "metadata": {
        "id": "JHaGKh3zhx6k"
      },
      "execution_count": null,
      "outputs": []
    },
    {
      "cell_type": "code",
      "source": [
        "ZT = Z.T\n",
        "ZT"
      ],
      "metadata": {
        "id": "agEcN_mRhz3i"
      },
      "execution_count": null,
      "outputs": []
    },
    {
      "cell_type": "markdown",
      "source": [
        "## Dot Product / Inner Product"
      ],
      "metadata": {
        "id": "NcQgqT4_h2Kk"
      }
    },
    {
      "cell_type": "markdown",
      "source": [
        "Assuming you are familiar with the dot product from a previous laboratory activity, we will attempt to do the same operation using matrices. The Dot Product/Inner Product will obtain the sum of products of the vectors by row-column pairs by performing a matrix dot product operation. As an example, consider the following two matrices: $X$ and $Y$.\n",
        "\n",
        "$$X = \\begin{bmatrix}x_{(1,1)}&x_{(3,3)}\\\\ x_{(5,8)}&x_{(5,5)}\\end{bmatrix}, Y = \\begin{bmatrix}y_{(1,1)}&y_{(3,3)}\\\\ y_{(5,8)}&y_{(5,5)}\\end{bmatrix}$$\n",
        "\n",
        "The dot product will then be computed as:\n",
        "$$X \\cdot Y= \\begin{bmatrix} x_{(1,1)}*y_{(1,1)} + x_{(3,3)}*y_{(5,8)} & x_{(1,1)}*y_{(3,3)} + x_{(3,3)}*y_{(5,5)} \\\\  x_{(5,8)}*y_{(1,1)} + x_{(5,5)}*y_{(5,8)} & x_{(5,8)}*y_{(3,3)} + x_{(5,5)}*y_{(5,5)}\n",
        "\\end{bmatrix}$$\n",
        "\n",
        "So if we assign values to $X$ and $Y$:\n",
        "$$X = \\begin{bmatrix}2&3\\\\ 1&2\\end{bmatrix}, Y = \\begin{bmatrix}-2&0\\\\ 4&4\\end{bmatrix}$$"
      ],
      "metadata": {
        "id": "Te00XjaFh5DZ"
      }
    },
    {
      "cell_type": "markdown",
      "source": [
        "$$X \\cdot Y= \\begin{bmatrix} 2*-2 + 3*4 & 2*0 + 4*4 \\\\  0*-2 + 2*3 & 0*0 + 2*4 \\end{bmatrix} = \\begin{bmatrix} 8 & 16 \\\\ 6 & 8 \\end{bmatrix}$$\n",
        "This could be achieved programmatically using `np.dot()`, `np.matmul()` or the `@` operator."
      ],
      "metadata": {
        "id": "lhbL0MuqlV1d"
      }
    },
    {
      "cell_type": "code",
      "source": [
        "X = np.array([\n",
        "    [0,3],\n",
        "    [5,8]\n",
        "])\n",
        "Y = np.array([\n",
        "    [-5,8],\n",
        "    [0,7]\n",
        "])"
      ],
      "metadata": {
        "id": "_9Fa5DZ3mbOw"
      },
      "execution_count": null,
      "outputs": []
    },
    {
      "cell_type": "code",
      "source": [
        "np.array_equiv(X, Y)"
      ],
      "metadata": {
        "id": "ZaGCnFhlmpyV"
      },
      "execution_count": null,
      "outputs": []
    },
    {
      "cell_type": "code",
      "source": [
        "np.dot(X,Y)"
      ],
      "metadata": {
        "id": "psvECCkmmqYv"
      },
      "execution_count": null,
      "outputs": []
    },
    {
      "cell_type": "code",
      "source": [
        "X.dot(Y)"
      ],
      "metadata": {
        "id": "oErrgKVRmsQu"
      },
      "execution_count": null,
      "outputs": []
    },
    {
      "cell_type": "code",
      "source": [
        "X @ Y"
      ],
      "metadata": {
        "id": "bdAGxGZWmtx4"
      },
      "execution_count": null,
      "outputs": []
    },
    {
      "cell_type": "code",
      "source": [
        "np.matmul(X,Y)"
      ],
      "metadata": {
        "id": "mSPySxNPmvIv"
      },
      "execution_count": null,
      "outputs": []
    },
    {
      "cell_type": "code",
      "source": [
        "D = np.array([\n",
        "    [5,8,12],\n",
        "    [2,8,3],\n",
        "    [5,9,1]\n",
        "])\n",
        "E = np.array([\n",
        "    [-5,0,9],\n",
        "    [5,8,6],\n",
        "    [7,1,3]\n",
        "])"
      ],
      "metadata": {
        "id": "QdGycMlVmwdo"
      },
      "execution_count": null,
      "outputs": []
    },
    {
      "cell_type": "code",
      "source": [
        "D @ E"
      ],
      "metadata": {
        "id": "t-A0PzOdnBIx"
      },
      "execution_count": null,
      "outputs": []
    },
    {
      "cell_type": "code",
      "source": [
        "D.dot(E)"
      ],
      "metadata": {
        "id": "Me9khwZznBrT"
      },
      "execution_count": null,
      "outputs": []
    },
    {
      "cell_type": "code",
      "source": [
        "np.matmul(D, E)"
      ],
      "metadata": {
        "id": "gVzrQ5qCnD1s"
      },
      "execution_count": null,
      "outputs": []
    },
    {
      "cell_type": "code",
      "source": [
        "np.dot(D, E)"
      ],
      "metadata": {
        "id": "F3qu6ArmnFIi"
      },
      "execution_count": null,
      "outputs": []
    },
    {
      "cell_type": "markdown",
      "source": [
        "When comparing matrix dot products to vector dot products, there are certain extra criteria to follow. Due to the fact that vector dot products were just in one dimension, there are less limitations. Because we are now working with Rank 2 vectors, we must take into consideration the following rules:\n",
        "\n",
        "###In order for the two matrices in question to be equivalent, the inner dimensions of each matrix must be the same.\n",
        "\n",
        "Consider the following scenario: you have a matrix $A$ with the structure of $(a,b)$, where $a$ and $b$ are any integers. Suppose we want to conduct a dot product between $A$ and another matrix $B$, then matrix $B$ should have the shape $(b,c)$, where $b$ and $c$ may be any integers and $A$ can be any other integer. As an example, consider the following matrices:\n",
        "\n",
        "$$A = \\begin{bmatrix}3&1\\\\8&-5\\\\1&8\\end{bmatrix}, B = \\begin{bmatrix}1&4\\\\8&6\\\\-2&-3\\end{bmatrix}, C = \\begin{bmatrix}2&9&5\\\\3&4&5\\end{bmatrix}$$\n",
        "\n",
        "$A$ has the shape $(,)$, $B$ has the shape $(,)$, and $C$ has a shape of $(,)$ in this example. As a result, the only matrix pairings that are qualified to conduct dot product are the matrices $A cdot C$ and $B cdot C$, respectively."
      ],
      "metadata": {
        "id": "3h2um01nnPdt"
      }
    },
    {
      "cell_type": "code",
      "source": [
        "A = np.array([\n",
        "    [3, 1],\n",
        "    [8, -5],\n",
        "    [1, 8]\n",
        "])\n",
        "B = np.array([\n",
        "    [1,4],\n",
        "    [8,6],\n",
        "    [-2,-3]\n",
        "])\n",
        "C = np.array([\n",
        "    [2,9,5],\n",
        "    [3,4,5]\n",
        "])\n",
        "print(A.shape)\n",
        "print(B.shape)\n",
        "print(C.shape)"
      ],
      "metadata": {
        "id": "gMHApIMQoeu4"
      },
      "execution_count": null,
      "outputs": []
    },
    {
      "cell_type": "code",
      "source": [
        "A @ C"
      ],
      "metadata": {
        "id": "X2WHumrNptPq"
      },
      "execution_count": null,
      "outputs": []
    },
    {
      "cell_type": "code",
      "source": [
        "B @ C"
      ],
      "metadata": {
        "id": "8HtYA8gapvc8"
      },
      "execution_count": null,
      "outputs": []
    },
    {
      "cell_type": "markdown",
      "source": [
        "If you look closely, you will note that the geometry of the dot product has changed and that it is no longer the same as any of the matrices that we utilized. In reality, the form of a dot product is generated by the shapes of the matrices that were utilized. As an example, consider the shapes of the matrices $A$ and $B$: $(a,b)$ and $(b,c)$, respectively. In this case, the shape of $A\\cdot B$ should be $(a,c)$."
      ],
      "metadata": {
        "id": "ebmIkQyCp7cr"
      }
    },
    {
      "cell_type": "code",
      "source": [
        "A @ B.T"
      ],
      "metadata": {
        "id": "gkBEeBL3p9Vy"
      },
      "execution_count": null,
      "outputs": []
    },
    {
      "cell_type": "code",
      "source": [
        "X = np.array([\n",
        "    [2,4,5,10]\n",
        "])\n",
        "Y = np.array([\n",
        "    [6,1,8,-5]\n",
        "])\n",
        "print(X.shape)\n",
        "print(Y.shape)"
      ],
      "metadata": {
        "id": "7_nCB11yqGem"
      },
      "execution_count": null,
      "outputs": []
    },
    {
      "cell_type": "code",
      "source": [
        "Y.T @ X"
      ],
      "metadata": {
        "id": "Y8_uYdOAqOHr"
      },
      "execution_count": null,
      "outputs": []
    },
    {
      "cell_type": "code",
      "source": [
        "X @ Y.T"
      ],
      "metadata": {
        "id": "MHtVEcb6qPk_"
      },
      "execution_count": null,
      "outputs": []
    },
    {
      "cell_type": "markdown",
      "source": [
        "Moreover, you can see that when you attempt to multiply A and B, the program produces the error `ValueError` due to a mismatch in the matrix structure."
      ],
      "metadata": {
        "id": "KrJqJjtuqScQ"
      }
    },
    {
      "cell_type": "markdown",
      "source": [
        "### Rule 2: Dot Product has special properties\n",
        "\n",
        "Due to the fact that dot products are common in matrix algebra, it follows that they have numerous distinct qualities that should be taken into consideration while formulating solutions:\n",
        "\n",
        " 1. $A \\cdot B \\neq B \\cdot A$\n",
        " 2. $A \\cdot (B \\cdot C) = (A \\cdot B) \\cdot C$\n",
        " 3. $A\\cdot(B+C) = A\\cdot B + A\\cdot C$\n",
        " 4. $(B+C)\\cdot A = B\\cdot A + C\\cdot A$\n",
        " 5. $A\\cdot I = A$\n",
        " 6. $A\\cdot \\emptyset = \\emptyset$ "
      ],
      "metadata": {
        "id": "ibebZ6PpqkZL"
      }
    },
    {
      "cell_type": "code",
      "source": [
        "A = np.array([\n",
        "    [2,5,5],\n",
        "    [4,7,6],\n",
        "    [7,4,1]\n",
        "])\n",
        "B = np.array([\n",
        "    [3,1,9],\n",
        "    [4,3,6],\n",
        "    [4,8,8]\n",
        "])\n",
        "C = np.array([\n",
        "    [9,1,4],\n",
        "    [0,5,8],\n",
        "    [7,5,1]\n",
        "])"
      ],
      "metadata": {
        "id": "fDUH52RVrElX"
      },
      "execution_count": null,
      "outputs": []
    },
    {
      "cell_type": "code",
      "source": [
        "np.eye(3)"
      ],
      "metadata": {
        "id": "iQ-3autxrYCj"
      },
      "execution_count": null,
      "outputs": []
    },
    {
      "cell_type": "code",
      "source": [
        "A.dot(np.eye(3))"
      ],
      "metadata": {
        "id": "LW4vlnm5raGZ"
      },
      "execution_count": null,
      "outputs": []
    },
    {
      "cell_type": "code",
      "source": [
        "np.array_equal(A@B, B@A)"
      ],
      "metadata": {
        "id": "xOnbV7T_rbzi"
      },
      "execution_count": null,
      "outputs": []
    },
    {
      "cell_type": "code",
      "source": [
        "E = A @ (B @ C)\n",
        "E"
      ],
      "metadata": {
        "id": "z6CyA-qsrdf5"
      },
      "execution_count": null,
      "outputs": []
    },
    {
      "cell_type": "code",
      "source": [
        "F = (A @ B) @ C\n",
        "F"
      ],
      "metadata": {
        "id": "4mAlAhVFrfCT"
      },
      "execution_count": null,
      "outputs": []
    },
    {
      "cell_type": "code",
      "source": [
        "np.array_equal(E, X)"
      ],
      "metadata": {
        "id": "l8nVhLoUriEq"
      },
      "execution_count": null,
      "outputs": []
    },
    {
      "cell_type": "code",
      "source": [
        "np.array_equiv(E, F)"
      ],
      "metadata": {
        "id": "O6u5zlpxrkY0"
      },
      "execution_count": null,
      "outputs": []
    },
    {
      "cell_type": "code",
      "source": [
        ""
      ],
      "metadata": {
        "id": "Z0A_c9ydroaA"
      },
      "execution_count": null,
      "outputs": []
    },
    {
      "cell_type": "code",
      "source": [
        "np.eye(A)"
      ],
      "metadata": {
        "id": "U6LvI3zlrmkv"
      },
      "execution_count": null,
      "outputs": []
    },
    {
      "cell_type": "code",
      "source": [
        "A @ E"
      ],
      "metadata": {
        "id": "hzWSY6KSrrsg"
      },
      "execution_count": null,
      "outputs": []
    },
    {
      "cell_type": "code",
      "source": [
        "z_mat = np.zeros(A.shape)\n",
        "z_mat"
      ],
      "metadata": {
        "id": "SpAxSwHQrv_8"
      },
      "execution_count": null,
      "outputs": []
    },
    {
      "cell_type": "code",
      "source": [
        "a_dot_z = A.dot(np.zeros(A.shape))\n",
        "a_dot_z"
      ],
      "metadata": {
        "id": "BSdIv2EMrxc4"
      },
      "execution_count": null,
      "outputs": []
    },
    {
      "cell_type": "code",
      "source": [
        "np.array_equal(a_dot_z,z_mat)"
      ],
      "metadata": {
        "id": "HIjwuNfkr0EG"
      },
      "execution_count": null,
      "outputs": []
    },
    {
      "cell_type": "code",
      "source": [
        "null_mat = np.empty(A.shape, dtype=float)\n",
        "null = np.array(null_mat,dtype=float)\n",
        "print(null)\n",
        "np.allclose(a_dot_z,null)"
      ],
      "metadata": {
        "id": "q4liwJu_r1Ti"
      },
      "execution_count": null,
      "outputs": []
    },
    {
      "cell_type": "markdown",
      "source": [
        "##Determinant"
      ],
      "metadata": {
        "id": "5nSu-J7-r2d0"
      }
    },
    {
      "cell_type": "markdown",
      "source": [
        "A determinant is a scalar value that may be obtained from a square matrix in two dimensions. Determinants are important values in matrix algebra because they are fundamental and important values. Although it will not be immediately apparent in this laboratory how it might be used in practice, it will be extensively utilized in subsequent lectures.\n",
        "\n",
        "The determinant of some matrix $A$ is denoted as $det(A)$ or $|A|$. So let's say $A$ is represented as:\n",
        "$$A = \\begin{bmatrix}a_{(0,0)}&a_{(0,1)}\\\\a_{(1,0)}&a_{(1,1)}\\end{bmatrix}$$\n",
        "We can compute for the determinant as:\n",
        "$$|A| = a_{(0,0)}*a_{(1,1)} - a_{(1,0)}*a_{(0,1)}$$\n",
        "So if we have $A$ as:\n",
        "$$A = \\begin{bmatrix}2&5\\\\7&9\\end{bmatrix}, |A| = $$\n",
        "However, you may question what happens to square matrices that are not of the form $(2,2)$. We may address this issue in a variety of ways, including utilizing co-factor expansion and the minors technique, among others. In the laboratory, we can learn how to do this in the lecture, but we can also programmatically compute the difficult calculation of high-dimensional matrices by using Python. This may be accomplished by the use of the function `np.linalg.det()`.\n"
      ],
      "metadata": {
        "id": "VxjVlIDor5zE"
      }
    },
    {
      "cell_type": "code",
      "source": [
        "A = np.array([\n",
        "    [2,5],\n",
        "    [7,9]\n",
        "])\n",
        "np.linalg.det(A)"
      ],
      "metadata": {
        "id": "u8d_as6JsmiB"
      },
      "execution_count": null,
      "outputs": []
    },
    {
      "cell_type": "code",
      "source": [
        "B = np.array([\n",
        "              [, 1, 3],\n",
        "              [3, -6 ,-7],\n",
        "              [0, -1, 4]\n",
        "])\n",
        "np.linalg.det(B)"
      ],
      "metadata": {
        "id": "9eRxJjTSstzS"
      },
      "execution_count": null,
      "outputs": []
    },
    {
      "cell_type": "code",
      "source": [
        "## Now other mathematics classes would require you to solve this by hand, \n",
        "## and that is great for practicing your memorization and coordination skills \n",
        "## but in this class we aim for simplicity and speed so we'll use programming\n",
        "## but it's completely fine if you want to try to solve this one by hand.\n",
        "B = np.array([\n",
        "    [3,9,7,4],\n",
        "    [3,6,8,3],\n",
        "    [3,9,8,2],\n",
        "    [7,5,5,2]\n",
        "])\n",
        "np.linalg.det(B)"
      ],
      "metadata": {
        "id": "PA10feTgs8ly"
      },
      "execution_count": null,
      "outputs": []
    },
    {
      "cell_type": "markdown",
      "source": [
        "##Inverse"
      ],
      "metadata": {
        "id": "FSY6WTfOtM6Y"
      }
    },
    {
      "cell_type": "markdown",
      "source": [
        "The inverse of a matrix is yet another important operation in matrix algebra that should not be overlooked. Determining the inverse of a matrix allows us to assess whether or not the matrix is solvable and has the characteristics of a system of linear equations — we'll go into more detail about this in the nect module. Another use of the inverse matrix is in the solution of the issue of divisibility between matrices between two variables. Although there is an element-by-element division method, there is no such method for splitting the whole idea of matrices. It is possible that the idea of \"dividing\" matrices is the same as that of \"inverting\" matrices in the case of inverse matrices.\n",
        "\n",
        "After that, we must go through various processes to get the inverse of the matrix we have created. So, let us suppose we have the following matrix $M$:\n",
        "$$M = \\begin{bmatrix}1&7\\\\-3&5\\end{bmatrix}$$\n",
        "First, we need to get the determinant of $M$.\n",
        "$$|M| = (1)(5)-(-3)(7) = 26$$\n",
        "Next, we need to reform the matrix into the inverse form:\n",
        "$$M^{-1} = \\frac{1}{|M|} \\begin{bmatrix} m_{(1,1)} & -m_{(0,1)} \\\\ -m_{(1,0)} & m_{(0,0)}\\end{bmatrix}$$\n",
        "So that will be:\n",
        "$$M^{-1} = \\frac{1}{26} \\begin{bmatrix} 5 & -7 \\\\ 3 & 1\\end{bmatrix} = \\begin{bmatrix} \\frac{5}{26} & \\frac{-7}{26} \\\\ \\frac{3}{26} & \\frac{1}{26}\\end{bmatrix}$$ ($CHANGE THE  VARIABLE$)\n",
        "It is possible that you will need to apply co-factors, minors, adjugates, and other reduction techniques for higher-dimension matrices. We can use a computer program to address this problem.`np.linalg.inv()`."
      ],
      "metadata": {
        "id": "-YVM3Z2atQcq"
      }
    },
    {
      "cell_type": "code",
      "source": [
        "M = np.array([\n",
        "    [,],\n",
        "    [, ]\n",
        "])\n",
        "\n",
        "np.array(M @ np.linalg.inv(M), dtype=int)"
      ],
      "metadata": {
        "id": "fNPU9PEIt5ZS"
      },
      "execution_count": null,
      "outputs": []
    },
    {
      "cell_type": "code",
      "source": [
        "P = np.array([\n",
        "              [2, 5, 8],\n",
        "              [3, 6, -9],\n",
        "              [1, 4, 7]\n",
        "])\n",
        "Q = np.linalg.inv(P)\n",
        "Q"
      ],
      "metadata": {
        "id": "7dJ2cY9At_fW"
      },
      "execution_count": null,
      "outputs": []
    },
    {
      "cell_type": "code",
      "source": [
        "P @ Q"
      ],
      "metadata": {
        "id": "7yIYqTVkuHtR"
      },
      "execution_count": null,
      "outputs": []
    },
    {
      "cell_type": "code",
      "source": [
        "## And now let's test your skills in solving a matrix with high dimensions:\n",
        "N = np.array([\n",
        "    [18,5,23,1,0,33,5],\n",
        "    [0,45,0,11,2,4,2],\n",
        "    [5,9,20,0,0,0,3],\n",
        "    [1,6,4,4,8,43,1],\n",
        "    [8,6,8,7,1,6,1],\n",
        "    [-5,15,2,0,0,6,-30],\n",
        "    [-2,-5,1,2,1,20,12],\n",
        "])\n",
        "N_inv = np.linalg.inv(N)\n",
        "np.array(N @ N_inv,dtype=int)"
      ],
      "metadata": {
        "id": "623JYnhOuKGx"
      },
      "execution_count": null,
      "outputs": []
    },
    {
      "cell_type": "markdown",
      "source": [
        "To validate the wether if the matric that you have solved is really the inverse, we follow this dot product property for a matrix $M$:\n",
        "$$M\\cdot M^{-1} = I$$"
      ],
      "metadata": {
        "id": "dp97iZ4wuOQ_"
      }
    },
    {
      "cell_type": "code",
      "source": [
        "squad = np.array([\n",
        "    [1.5, 1.0, 2.5],\n",
        "    [0.8, 0.1, 1.9],\n",
        "    [0.1, 0.5, 3.0]\n",
        "])\n",
        "weights = np.array([\n",
        "    [1.2, 0.3, 0.9]\n",
        "])\n",
        "p_grade = squad @ weights.T\n",
        "p_grade\n"
      ],
      "metadata": {
        "id": "aOesMR0kuMY7"
      },
      "execution_count": null,
      "outputs": []
    },
    {
      "cell_type": "markdown",
      "source": [
        "##Activity"
      ],
      "metadata": {
        "id": "I-G0bTNNuiU8"
      }
    },
    {
      "cell_type": "markdown",
      "source": [
        "###Task 1"
      ],
      "metadata": {
        "id": "b1D0cC3eunvo"
      }
    },
    {
      "cell_type": "code",
      "source": [
        ""
      ],
      "metadata": {
        "id": "TVxSI9KuunPH"
      },
      "execution_count": null,
      "outputs": []
    }
  ]
}