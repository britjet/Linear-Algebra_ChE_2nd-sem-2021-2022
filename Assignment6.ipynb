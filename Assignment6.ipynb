{
  "nbformat": 4,
  "nbformat_minor": 0,
  "metadata": {
    "colab": {
      "name": "Assignment6",
      "provenance": [],
      "collapsed_sections": [],
      "authorship_tag": "ABX9TyMNA5NJiFzHGN48P8/fi0wi",
      "include_colab_link": true
    },
    "kernelspec": {
      "name": "python3",
      "display_name": "Python 3"
    },
    "language_info": {
      "name": "python"
    }
  },
  "cells": [
    {
      "cell_type": "markdown",
      "metadata": {
        "id": "view-in-github",
        "colab_type": "text"
      },
      "source": [
        "<a href=\"https://colab.research.google.com/github/britjet/Linear-Algebra_ChE_2nd-sem-2021-2022/blob/main/Assignment6.ipynb\" target=\"_parent\"><img src=\"https://colab.research.google.com/assets/colab-badge.svg\" alt=\"Open In Colab\"/></a>"
      ]
    },
    {
      "cell_type": "markdown",
      "source": [
        "#Laboratory 6: Matrix Operation"
      ],
      "metadata": {
        "id": "bAgYHtsaS96Q"
      }
    },
    {
      "cell_type": "markdown",
      "source": [
        "Objectives\n",
        "\n",
        "At the end of this activity you will be able to:\n",
        "\n",
        "1. Understand the fundamental matrix operations.\n",
        "2. Solve intermediate equations using the procedures.\n",
        "3. In engineering solutions, use matrix algebra."
      ],
      "metadata": {
        "id": "SO0dH0reTNaf"
      }
    },
    {
      "cell_type": "markdown",
      "source": [
        "##Discussion"
      ],
      "metadata": {
        "id": "y0PmHudoViEP"
      }
    },
    {
      "cell_type": "code",
      "execution_count": 1,
      "metadata": {
        "id": "49YKsSPRS3RT"
      },
      "outputs": [],
      "source": [
        "import numpy as np\n",
        "import matplotlib.pyplot as plt\n",
        "%matplotlib inline"
      ]
    },
    {
      "cell_type": "markdown",
      "source": [
        "##Transposition"
      ],
      "metadata": {
        "id": "IIdckyjjVyB_"
      }
    },
    {
      "cell_type": "markdown",
      "source": [
        "Transposition is a fundamental operation in matrix algebra and is one of its most critical applications. The transposition of a matrix is accomplished by flipping its members' values over the matrix's diagonals. The rows and columns of the original matrix will be swapped due to this. As a result, the symbol $A^T$ indicates the transpose of matrix $A$. As an illustration, consider the following:"
      ],
      "metadata": {
        "id": "qRdsleXmfG8p"
      }
    },
    {
      "cell_type": "markdown",
      "source": [
        "$$A = \\begin{bmatrix} 2 & 5 & 8\\\\5 & -6 &1 \\\\ 10 & -8 & 3\\end{bmatrix} $$"
      ],
      "metadata": {
        "id": "wgmX86vgf1HL"
      }
    },
    {
      "cell_type": "markdown",
      "source": [
        "$$ A^T = \\begin{bmatrix} 2 & 3 & 8\\\\5 & -1 &-9 \\\\ 7 & 10 & 5\\end{bmatrix}$$"
      ],
      "metadata": {
        "id": "5eme-jVWgEIJ"
      }
    },
    {
      "cell_type": "markdown",
      "source": [
        "This may now be accomplished programmatically through the use of the np.transpose() function or the T method."
      ],
      "metadata": {
        "id": "weBLdl9HgXtg"
      }
    },
    {
      "cell_type": "code",
      "source": [
        "A = np.array([\n",
        "    [3 ,9, 7],\n",
        "    [4, -5, 0],\n",
        "    [5, -2, 5]\n",
        "])\n",
        "A"
      ],
      "metadata": {
        "id": "mp3cQxQegZZq",
        "colab": {
          "base_uri": "https://localhost:8080/"
        },
        "outputId": "f3da1ba7-95bc-4643-8e97-b9a6b013a0d3"
      },
      "execution_count": 2,
      "outputs": [
        {
          "output_type": "execute_result",
          "data": {
            "text/plain": [
              "array([[ 3,  9,  7],\n",
              "       [ 4, -5,  0],\n",
              "       [ 5, -2,  5]])"
            ]
          },
          "metadata": {},
          "execution_count": 2
        }
      ]
    },
    {
      "cell_type": "code",
      "source": [
        "AT1 = np.transpose(A)\n",
        "AT1"
      ],
      "metadata": {
        "id": "oAv3cKrkg6Bn",
        "colab": {
          "base_uri": "https://localhost:8080/"
        },
        "outputId": "7cbb446f-cda8-493d-ecb6-f09fe8080dcb"
      },
      "execution_count": 3,
      "outputs": [
        {
          "output_type": "execute_result",
          "data": {
            "text/plain": [
              "array([[ 3,  4,  5],\n",
              "       [ 9, -5, -2],\n",
              "       [ 7,  0,  5]])"
            ]
          },
          "metadata": {},
          "execution_count": 3
        }
      ]
    },
    {
      "cell_type": "code",
      "source": [
        "AT2 = A.T\n",
        "AT2"
      ],
      "metadata": {
        "id": "9XzEnuYYg8A3",
        "colab": {
          "base_uri": "https://localhost:8080/"
        },
        "outputId": "fcedc2e1-5346-4d78-92ec-cd53479b3807"
      },
      "execution_count": 4,
      "outputs": [
        {
          "output_type": "execute_result",
          "data": {
            "text/plain": [
              "array([[ 3,  4,  5],\n",
              "       [ 9, -5, -2],\n",
              "       [ 7,  0,  5]])"
            ]
          },
          "metadata": {},
          "execution_count": 4
        }
      ]
    },
    {
      "cell_type": "code",
      "source": [
        "np.array_equiv(AT1, AT2)"
      ],
      "metadata": {
        "id": "wPbg8SKpg-Rn",
        "colab": {
          "base_uri": "https://localhost:8080/"
        },
        "outputId": "1786bb89-6a45-49f5-b1c5-e251560a9814"
      },
      "execution_count": 5,
      "outputs": [
        {
          "output_type": "execute_result",
          "data": {
            "text/plain": [
              "True"
            ]
          },
          "metadata": {},
          "execution_count": 5
        }
      ]
    },
    {
      "cell_type": "code",
      "source": [
        "B = np.array([\n",
        "    [2,4,6,8],\n",
        "    [3,6,9,12],\n",
        "])\n",
        "B.shape"
      ],
      "metadata": {
        "id": "_nzdkeYYhG7P",
        "colab": {
          "base_uri": "https://localhost:8080/"
        },
        "outputId": "11986a3a-9525-4fc7-b75a-1ebe8f1d6749"
      },
      "execution_count": 6,
      "outputs": [
        {
          "output_type": "execute_result",
          "data": {
            "text/plain": [
              "(2, 4)"
            ]
          },
          "metadata": {},
          "execution_count": 6
        }
      ]
    },
    {
      "cell_type": "code",
      "source": [
        "np.transpose(B).shape"
      ],
      "metadata": {
        "id": "__fwJlh0hbPn",
        "colab": {
          "base_uri": "https://localhost:8080/"
        },
        "outputId": "7086e79e-4794-4659-9d11-3bebdc2973af"
      },
      "execution_count": 7,
      "outputs": [
        {
          "output_type": "execute_result",
          "data": {
            "text/plain": [
              "(4, 2)"
            ]
          },
          "metadata": {},
          "execution_count": 7
        }
      ]
    },
    {
      "cell_type": "code",
      "source": [
        "B.T.shape"
      ],
      "metadata": {
        "id": "CEaLsDdfhcAX",
        "colab": {
          "base_uri": "https://localhost:8080/"
        },
        "outputId": "8486be13-981f-4b5c-c6fa-7a2aa879a314"
      },
      "execution_count": 8,
      "outputs": [
        {
          "output_type": "execute_result",
          "data": {
            "text/plain": [
              "(4, 2)"
            ]
          },
          "metadata": {},
          "execution_count": 8
        }
      ]
    },
    {
      "cell_type": "markdown",
      "source": [
        "#### Create your own matrix (you can experiment with non-squares) and use it to test transposition."
      ],
      "metadata": {
        "id": "lo1vfuj-hg3W"
      }
    },
    {
      "cell_type": "code",
      "source": [
        "## Try out your code here.\n",
        "Z=np.array([\n",
        "    [5,7,9],\n",
        "    [4,8,10]        \n",
        "])\n",
        "Z.shape"
      ],
      "metadata": {
        "id": "BzgtUSJ0hpCh",
        "colab": {
          "base_uri": "https://localhost:8080/"
        },
        "outputId": "ca66cbb2-7a21-483a-cfea-ccf00ea6d299"
      },
      "execution_count": 9,
      "outputs": [
        {
          "output_type": "execute_result",
          "data": {
            "text/plain": [
              "(2, 3)"
            ]
          },
          "metadata": {},
          "execution_count": 9
        }
      ]
    },
    {
      "cell_type": "code",
      "source": [
        "np.transpose(Z).shape"
      ],
      "metadata": {
        "id": "lAtNi3gthwqH",
        "colab": {
          "base_uri": "https://localhost:8080/"
        },
        "outputId": "5d8df8a8-a39e-472b-ee6d-03a28ae3c408"
      },
      "execution_count": 10,
      "outputs": [
        {
          "output_type": "execute_result",
          "data": {
            "text/plain": [
              "(3, 2)"
            ]
          },
          "metadata": {},
          "execution_count": 10
        }
      ]
    },
    {
      "cell_type": "code",
      "source": [
        "Z.T.shape"
      ],
      "metadata": {
        "id": "JHaGKh3zhx6k",
        "colab": {
          "base_uri": "https://localhost:8080/"
        },
        "outputId": "4be76bd7-d7fd-45aa-9251-279d770ba33a"
      },
      "execution_count": 11,
      "outputs": [
        {
          "output_type": "execute_result",
          "data": {
            "text/plain": [
              "(3, 2)"
            ]
          },
          "metadata": {},
          "execution_count": 11
        }
      ]
    },
    {
      "cell_type": "code",
      "source": [
        "ZT = Z.T\n",
        "ZT"
      ],
      "metadata": {
        "id": "agEcN_mRhz3i",
        "colab": {
          "base_uri": "https://localhost:8080/"
        },
        "outputId": "4cf1b2b0-94f6-4614-f9eb-5d2bfd4dbeb7"
      },
      "execution_count": 12,
      "outputs": [
        {
          "output_type": "execute_result",
          "data": {
            "text/plain": [
              "array([[ 5,  4],\n",
              "       [ 7,  8],\n",
              "       [ 9, 10]])"
            ]
          },
          "metadata": {},
          "execution_count": 12
        }
      ]
    },
    {
      "cell_type": "markdown",
      "source": [
        "## Dot Product / Inner Product"
      ],
      "metadata": {
        "id": "NcQgqT4_h2Kk"
      }
    },
    {
      "cell_type": "markdown",
      "source": [
        "Assuming you are familiar with the dot product from a previous laboratory activity, we will attempt to do the same operation using matrices. The Dot Product/Inner Product will obtain the sum of products of the vectors by row-column pairs by performing a matrix dot product operation. As an example, consider the following two matrices: $X$ and $Y$.\n",
        "\n",
        "$$X = \\begin{bmatrix}x_{(1,1)}&x_{(3,3)}\\\\ x_{(5,8)}&x_{(5,5)}\\end{bmatrix}, Y = \\begin{bmatrix}y_{(1,1)}&y_{(3,3)}\\\\ y_{(5,8)}&y_{(5,5)}\\end{bmatrix}$$\n",
        "\n",
        "The dot product will then be computed as:\n",
        "$$X \\cdot Y= \\begin{bmatrix} x_{(1,1)}*y_{(1,1)} + x_{(3,3)}*y_{(5,8)} & x_{(1,1)}*y_{(3,3)} + x_{(3,3)}*y_{(5,5)} \\\\  x_{(5,8)}*y_{(1,1)} + x_{(5,5)}*y_{(5,8)} & x_{(5,8)}*y_{(3,3)} + x_{(5,5)}*y_{(5,5)}\n",
        "\\end{bmatrix}$$\n",
        "\n",
        "So if we assign values to $X$ and $Y$:\n",
        "$$X = \\begin{bmatrix}2&3\\\\ 1&2\\end{bmatrix}, Y = \\begin{bmatrix}-2&0\\\\ 4&4\\end{bmatrix}$$"
      ],
      "metadata": {
        "id": "Te00XjaFh5DZ"
      }
    },
    {
      "cell_type": "markdown",
      "source": [
        "$$X \\cdot Y= \\begin{bmatrix} 2*-2 + 3*4 & 2*0 + 4*4 \\\\  0*-2 + 2*3 & 0*0 + 2*4 \\end{bmatrix} = \\begin{bmatrix} 8 & 16 \\\\ 6 & 8 \\end{bmatrix}$$\n",
        "This could be achieved programmatically using `np.dot()`, `np.matmul()` or the `@` operator."
      ],
      "metadata": {
        "id": "lhbL0MuqlV1d"
      }
    },
    {
      "cell_type": "code",
      "source": [
        "X = np.array([\n",
        "    [0,3],\n",
        "    [5,8]\n",
        "])\n",
        "Y = np.array([\n",
        "    [-5,8],\n",
        "    [0,7]\n",
        "])"
      ],
      "metadata": {
        "id": "_9Fa5DZ3mbOw"
      },
      "execution_count": 13,
      "outputs": []
    },
    {
      "cell_type": "code",
      "source": [
        "np.array_equiv(X, Y)"
      ],
      "metadata": {
        "id": "ZaGCnFhlmpyV",
        "colab": {
          "base_uri": "https://localhost:8080/"
        },
        "outputId": "7d2fe1ee-cf59-420d-d388-02a8d0787725"
      },
      "execution_count": 14,
      "outputs": [
        {
          "output_type": "execute_result",
          "data": {
            "text/plain": [
              "False"
            ]
          },
          "metadata": {},
          "execution_count": 14
        }
      ]
    },
    {
      "cell_type": "code",
      "source": [
        "np.dot(X,Y)"
      ],
      "metadata": {
        "id": "psvECCkmmqYv",
        "colab": {
          "base_uri": "https://localhost:8080/"
        },
        "outputId": "c773a955-67fd-43ff-e6ce-944b7e6a0e35"
      },
      "execution_count": 15,
      "outputs": [
        {
          "output_type": "execute_result",
          "data": {
            "text/plain": [
              "array([[  0,  21],\n",
              "       [-25,  96]])"
            ]
          },
          "metadata": {},
          "execution_count": 15
        }
      ]
    },
    {
      "cell_type": "code",
      "source": [
        "X.dot(Y)"
      ],
      "metadata": {
        "id": "oErrgKVRmsQu",
        "colab": {
          "base_uri": "https://localhost:8080/"
        },
        "outputId": "5a1ae1ab-44bf-406a-b4a8-6829b2827fb3"
      },
      "execution_count": 16,
      "outputs": [
        {
          "output_type": "execute_result",
          "data": {
            "text/plain": [
              "array([[  0,  21],\n",
              "       [-25,  96]])"
            ]
          },
          "metadata": {},
          "execution_count": 16
        }
      ]
    },
    {
      "cell_type": "code",
      "source": [
        "X @ Y"
      ],
      "metadata": {
        "id": "bdAGxGZWmtx4",
        "colab": {
          "base_uri": "https://localhost:8080/"
        },
        "outputId": "df293d89-d534-4952-b02b-9036495dadf0"
      },
      "execution_count": 17,
      "outputs": [
        {
          "output_type": "execute_result",
          "data": {
            "text/plain": [
              "array([[  0,  21],\n",
              "       [-25,  96]])"
            ]
          },
          "metadata": {},
          "execution_count": 17
        }
      ]
    },
    {
      "cell_type": "code",
      "source": [
        "np.matmul(X,Y)"
      ],
      "metadata": {
        "id": "mSPySxNPmvIv",
        "colab": {
          "base_uri": "https://localhost:8080/"
        },
        "outputId": "a568d8a7-d188-45b5-d731-53fcdf02b18d"
      },
      "execution_count": 18,
      "outputs": [
        {
          "output_type": "execute_result",
          "data": {
            "text/plain": [
              "array([[  0,  21],\n",
              "       [-25,  96]])"
            ]
          },
          "metadata": {},
          "execution_count": 18
        }
      ]
    },
    {
      "cell_type": "code",
      "source": [
        "D = np.array([\n",
        "    [5,8,12],\n",
        "    [2,8,3],\n",
        "    [5,9,1]\n",
        "])\n",
        "E = np.array([\n",
        "    [-5,0,9],\n",
        "    [5,8,6],\n",
        "    [7,1,3]\n",
        "])"
      ],
      "metadata": {
        "id": "QdGycMlVmwdo"
      },
      "execution_count": 19,
      "outputs": []
    },
    {
      "cell_type": "code",
      "source": [
        "D @ E"
      ],
      "metadata": {
        "id": "t-A0PzOdnBIx",
        "colab": {
          "base_uri": "https://localhost:8080/"
        },
        "outputId": "ffb8bf0b-5312-4ab0-da08-8c140f2adb34"
      },
      "execution_count": 20,
      "outputs": [
        {
          "output_type": "execute_result",
          "data": {
            "text/plain": [
              "array([[ 99,  76, 129],\n",
              "       [ 51,  67,  75],\n",
              "       [ 27,  73, 102]])"
            ]
          },
          "metadata": {},
          "execution_count": 20
        }
      ]
    },
    {
      "cell_type": "code",
      "source": [
        "D.dot(E)"
      ],
      "metadata": {
        "id": "Me9khwZznBrT",
        "colab": {
          "base_uri": "https://localhost:8080/"
        },
        "outputId": "e46ce0bb-c988-47c5-ea8e-7c8845a9ca5c"
      },
      "execution_count": 21,
      "outputs": [
        {
          "output_type": "execute_result",
          "data": {
            "text/plain": [
              "array([[ 99,  76, 129],\n",
              "       [ 51,  67,  75],\n",
              "       [ 27,  73, 102]])"
            ]
          },
          "metadata": {},
          "execution_count": 21
        }
      ]
    },
    {
      "cell_type": "code",
      "source": [
        "np.matmul(D, E)"
      ],
      "metadata": {
        "id": "gVzrQ5qCnD1s",
        "colab": {
          "base_uri": "https://localhost:8080/"
        },
        "outputId": "0320fb74-4ffa-46fe-e130-c14e709d757b"
      },
      "execution_count": 22,
      "outputs": [
        {
          "output_type": "execute_result",
          "data": {
            "text/plain": [
              "array([[ 99,  76, 129],\n",
              "       [ 51,  67,  75],\n",
              "       [ 27,  73, 102]])"
            ]
          },
          "metadata": {},
          "execution_count": 22
        }
      ]
    },
    {
      "cell_type": "code",
      "source": [
        "np.dot(D, E)"
      ],
      "metadata": {
        "id": "F3qu6ArmnFIi",
        "colab": {
          "base_uri": "https://localhost:8080/"
        },
        "outputId": "9fae2529-754c-4537-de3c-3272a2da238c"
      },
      "execution_count": 23,
      "outputs": [
        {
          "output_type": "execute_result",
          "data": {
            "text/plain": [
              "array([[ 99,  76, 129],\n",
              "       [ 51,  67,  75],\n",
              "       [ 27,  73, 102]])"
            ]
          },
          "metadata": {},
          "execution_count": 23
        }
      ]
    },
    {
      "cell_type": "markdown",
      "source": [
        "When comparing matrix dot products to vector dot products, there are certain extra criteria to follow. Due to the fact that vector dot products were just in one dimension, there are less limitations. Because we are now working with Rank 2 vectors, we must take into consideration the following rules:\n",
        "\n",
        "###In order for the two matrices in question to be equivalent, the inner dimensions of each matrix must be the same.\n",
        "\n",
        "Consider the following scenario: you have a matrix $A$ with the structure of $(a,b)$, where $a$ and $b$ are any integers. Suppose we want to conduct a dot product between $A$ and another matrix $B$, then matrix $B$ should have the shape $(b,c)$, where $b$ and $c$ may be any integers and $A$ can be any other integer. As an example, consider the following matrices:\n",
        "\n",
        "$$A = \\begin{bmatrix}3&1\\\\8&-5\\\\1&8\\end{bmatrix}, B = \\begin{bmatrix}1&4\\\\8&6\\\\-2&-3\\end{bmatrix}, C = \\begin{bmatrix}2&9&5\\\\3&4&5\\end{bmatrix}$$\n",
        "\n",
        "$A$ has the shape $(,)$, $B$ has the shape $(,)$, and $C$ has a shape of $(,)$ in this example. As a result, the only matrix pairings that are qualified to conduct dot product are the matrices $A cdot C$ and $B cdot C$, respectively."
      ],
      "metadata": {
        "id": "3h2um01nnPdt"
      }
    },
    {
      "cell_type": "code",
      "source": [
        "A = np.array([\n",
        "    [3, 1],\n",
        "    [8, -5],\n",
        "    [1, 8]\n",
        "])\n",
        "B = np.array([\n",
        "    [1,4],\n",
        "    [8,6],\n",
        "    [-2,-3]\n",
        "])\n",
        "C = np.array([\n",
        "    [2,9,5],\n",
        "    [3,4,5]\n",
        "])\n",
        "print(A.shape)\n",
        "print(B.shape)\n",
        "print(C.shape)"
      ],
      "metadata": {
        "id": "gMHApIMQoeu4",
        "colab": {
          "base_uri": "https://localhost:8080/"
        },
        "outputId": "964f4cf5-0cee-40ba-aeec-812cba4a4a12"
      },
      "execution_count": 24,
      "outputs": [
        {
          "output_type": "stream",
          "name": "stdout",
          "text": [
            "(3, 2)\n",
            "(3, 2)\n",
            "(2, 3)\n"
          ]
        }
      ]
    },
    {
      "cell_type": "code",
      "source": [
        "A @ C"
      ],
      "metadata": {
        "id": "X2WHumrNptPq",
        "colab": {
          "base_uri": "https://localhost:8080/"
        },
        "outputId": "3b3b441f-89e5-440f-a878-ef601fcbdd20"
      },
      "execution_count": 25,
      "outputs": [
        {
          "output_type": "execute_result",
          "data": {
            "text/plain": [
              "array([[ 9, 31, 20],\n",
              "       [ 1, 52, 15],\n",
              "       [26, 41, 45]])"
            ]
          },
          "metadata": {},
          "execution_count": 25
        }
      ]
    },
    {
      "cell_type": "code",
      "source": [
        "B @ C"
      ],
      "metadata": {
        "id": "8HtYA8gapvc8",
        "colab": {
          "base_uri": "https://localhost:8080/"
        },
        "outputId": "cc2dade6-fc42-4fa1-ba13-030df46ed2b7"
      },
      "execution_count": 26,
      "outputs": [
        {
          "output_type": "execute_result",
          "data": {
            "text/plain": [
              "array([[ 14,  25,  25],\n",
              "       [ 34,  96,  70],\n",
              "       [-13, -30, -25]])"
            ]
          },
          "metadata": {},
          "execution_count": 26
        }
      ]
    },
    {
      "cell_type": "markdown",
      "source": [
        "If you look closely, you will note that the geometry of the dot product has changed and that it is no longer the same as any of the matrices that we utilized. In reality, the form of a dot product is generated by the shapes of the matrices that were utilized. As an example, consider the shapes of the matrices $A$ and $B$: $(a,b)$ and $(b,c)$, respectively. In this case, the shape of $A\\cdot B$ should be $(a,c)$."
      ],
      "metadata": {
        "id": "ebmIkQyCp7cr"
      }
    },
    {
      "cell_type": "code",
      "source": [
        "A @ B.T"
      ],
      "metadata": {
        "id": "gkBEeBL3p9Vy",
        "colab": {
          "base_uri": "https://localhost:8080/"
        },
        "outputId": "2d7089cd-af2e-47be-ff3d-6d2cb25e729c"
      },
      "execution_count": 27,
      "outputs": [
        {
          "output_type": "execute_result",
          "data": {
            "text/plain": [
              "array([[  7,  30,  -9],\n",
              "       [-12,  34,  -1],\n",
              "       [ 33,  56, -26]])"
            ]
          },
          "metadata": {},
          "execution_count": 27
        }
      ]
    },
    {
      "cell_type": "code",
      "source": [
        "X = np.array([\n",
        "    [2,4,5,10]\n",
        "])\n",
        "Y = np.array([\n",
        "    [6,1,8,-5]\n",
        "])\n",
        "print(X.shape)\n",
        "print(Y.shape)"
      ],
      "metadata": {
        "id": "7_nCB11yqGem",
        "colab": {
          "base_uri": "https://localhost:8080/"
        },
        "outputId": "0b2e6e17-5f02-42b0-b491-4af7efa0305a"
      },
      "execution_count": 28,
      "outputs": [
        {
          "output_type": "stream",
          "name": "stdout",
          "text": [
            "(1, 4)\n",
            "(1, 4)\n"
          ]
        }
      ]
    },
    {
      "cell_type": "code",
      "source": [
        "Y.T @ X"
      ],
      "metadata": {
        "id": "Y8_uYdOAqOHr",
        "colab": {
          "base_uri": "https://localhost:8080/"
        },
        "outputId": "0f0f25ea-0a5e-49a7-d283-3f914fa02b4c"
      },
      "execution_count": 29,
      "outputs": [
        {
          "output_type": "execute_result",
          "data": {
            "text/plain": [
              "array([[ 12,  24,  30,  60],\n",
              "       [  2,   4,   5,  10],\n",
              "       [ 16,  32,  40,  80],\n",
              "       [-10, -20, -25, -50]])"
            ]
          },
          "metadata": {},
          "execution_count": 29
        }
      ]
    },
    {
      "cell_type": "code",
      "source": [
        "X @ Y.T"
      ],
      "metadata": {
        "id": "MHtVEcb6qPk_",
        "colab": {
          "base_uri": "https://localhost:8080/"
        },
        "outputId": "e4b0181b-81b9-4dd3-e082-46f1779c6a54"
      },
      "execution_count": 30,
      "outputs": [
        {
          "output_type": "execute_result",
          "data": {
            "text/plain": [
              "array([[6]])"
            ]
          },
          "metadata": {},
          "execution_count": 30
        }
      ]
    },
    {
      "cell_type": "markdown",
      "source": [
        "Moreover, you can see that when you attempt to multiply A and B, the program produces the error `ValueError` due to a mismatch in the matrix structure."
      ],
      "metadata": {
        "id": "KrJqJjtuqScQ"
      }
    },
    {
      "cell_type": "markdown",
      "source": [
        "### Rule 2: Dot Product has special properties\n",
        "\n",
        "Due to the fact that dot products are common in matrix algebra, it follows that they have numerous distinct qualities that should be taken into consideration while formulating solutions:\n",
        "\n",
        " 1. $A \\cdot B \\neq B \\cdot A$\n",
        " 2. $A \\cdot (B \\cdot C) = (A \\cdot B) \\cdot C$\n",
        " 3. $A\\cdot(B+C) = A\\cdot B + A\\cdot C$\n",
        " 4. $(B+C)\\cdot A = B\\cdot A + C\\cdot A$\n",
        " 5. $A\\cdot I = A$\n",
        " 6. $A\\cdot \\emptyset = \\emptyset$ "
      ],
      "metadata": {
        "id": "ibebZ6PpqkZL"
      }
    },
    {
      "cell_type": "code",
      "source": [
        "A = np.array([\n",
        "    [2,5,5],\n",
        "    [4,7,6],\n",
        "    [7,4,1]\n",
        "])\n",
        "B = np.array([\n",
        "    [3,1,9],\n",
        "    [4,3,6],\n",
        "    [4,8,8]\n",
        "])\n",
        "C = np.array([\n",
        "    [9,1,4],\n",
        "    [0,5,8],\n",
        "    [7,5,1]\n",
        "])"
      ],
      "metadata": {
        "id": "fDUH52RVrElX"
      },
      "execution_count": 31,
      "outputs": []
    },
    {
      "cell_type": "code",
      "source": [
        "np.eye(3)"
      ],
      "metadata": {
        "id": "iQ-3autxrYCj",
        "colab": {
          "base_uri": "https://localhost:8080/"
        },
        "outputId": "3c94651c-b8c9-466d-d1ac-367678316df3"
      },
      "execution_count": 32,
      "outputs": [
        {
          "output_type": "execute_result",
          "data": {
            "text/plain": [
              "array([[1., 0., 0.],\n",
              "       [0., 1., 0.],\n",
              "       [0., 0., 1.]])"
            ]
          },
          "metadata": {},
          "execution_count": 32
        }
      ]
    },
    {
      "cell_type": "code",
      "source": [
        "A.dot(np.eye(3))"
      ],
      "metadata": {
        "id": "LW4vlnm5raGZ",
        "colab": {
          "base_uri": "https://localhost:8080/"
        },
        "outputId": "9d5c7755-4db3-4f3f-c58a-3f7872264ed9"
      },
      "execution_count": 33,
      "outputs": [
        {
          "output_type": "execute_result",
          "data": {
            "text/plain": [
              "array([[2., 5., 5.],\n",
              "       [4., 7., 6.],\n",
              "       [7., 4., 1.]])"
            ]
          },
          "metadata": {},
          "execution_count": 33
        }
      ]
    },
    {
      "cell_type": "code",
      "source": [
        "np.array_equal(A@B, B@A)"
      ],
      "metadata": {
        "id": "xOnbV7T_rbzi",
        "colab": {
          "base_uri": "https://localhost:8080/"
        },
        "outputId": "f83886ed-cc98-4460-a5a2-6f07031b986d"
      },
      "execution_count": 34,
      "outputs": [
        {
          "output_type": "execute_result",
          "data": {
            "text/plain": [
              "False"
            ]
          },
          "metadata": {},
          "execution_count": 34
        }
      ]
    },
    {
      "cell_type": "code",
      "source": [
        "E = A @ (B @ C)\n",
        "E"
      ],
      "metadata": {
        "id": "z6CyA-qsrdf5",
        "colab": {
          "base_uri": "https://localhost:8080/"
        },
        "outputId": "d4139187-e149-4768-8daa-0816103f780c"
      },
      "execution_count": 35,
      "outputs": [
        {
          "output_type": "execute_result",
          "data": {
            "text/plain": [
              "array([[1030,  771,  728],\n",
              "       [1458, 1059,  966],\n",
              "       [1034,  651,  475]])"
            ]
          },
          "metadata": {},
          "execution_count": 35
        }
      ]
    },
    {
      "cell_type": "code",
      "source": [
        "F = (A @ B) @ C\n",
        "F"
      ],
      "metadata": {
        "id": "4mAlAhVFrfCT",
        "colab": {
          "base_uri": "https://localhost:8080/"
        },
        "outputId": "df400908-fd7e-4b01-f286-a66f552e64dd"
      },
      "execution_count": 36,
      "outputs": [
        {
          "output_type": "execute_result",
          "data": {
            "text/plain": [
              "array([[1030,  771,  728],\n",
              "       [1458, 1059,  966],\n",
              "       [1034,  651,  475]])"
            ]
          },
          "metadata": {},
          "execution_count": 36
        }
      ]
    },
    {
      "cell_type": "code",
      "source": [
        "np.array_equal(E, X)"
      ],
      "metadata": {
        "id": "l8nVhLoUriEq",
        "colab": {
          "base_uri": "https://localhost:8080/"
        },
        "outputId": "140fb251-ad21-4e7e-c759-8a60f0274441"
      },
      "execution_count": 37,
      "outputs": [
        {
          "output_type": "execute_result",
          "data": {
            "text/plain": [
              "False"
            ]
          },
          "metadata": {},
          "execution_count": 37
        }
      ]
    },
    {
      "cell_type": "code",
      "source": [
        "np.array_equiv(E, F)"
      ],
      "metadata": {
        "id": "O6u5zlpxrkY0",
        "colab": {
          "base_uri": "https://localhost:8080/"
        },
        "outputId": "a7f2b36a-7bc3-42a0-e20a-fcc5cac19c2c"
      },
      "execution_count": 38,
      "outputs": [
        {
          "output_type": "execute_result",
          "data": {
            "text/plain": [
              "True"
            ]
          },
          "metadata": {},
          "execution_count": 38
        }
      ]
    },
    {
      "cell_type": "code",
      "source": [
        "np.eye(A)"
      ],
      "metadata": {
        "id": "U6LvI3zlrmkv",
        "colab": {
          "base_uri": "https://localhost:8080/",
          "height": 304
        },
        "outputId": "1e592494-ef4d-4755-dcc5-cdb1d913f8ac"
      },
      "execution_count": 39,
      "outputs": [
        {
          "output_type": "error",
          "ename": "TypeError",
          "evalue": "ignored",
          "traceback": [
            "\u001b[0;31m---------------------------------------------------------------------------\u001b[0m",
            "\u001b[0;31mTypeError\u001b[0m                                 Traceback (most recent call last)",
            "\u001b[0;32m<ipython-input-39-13ff6dcd75e1>\u001b[0m in \u001b[0;36m<module>\u001b[0;34m()\u001b[0m\n\u001b[0;32m----> 1\u001b[0;31m \u001b[0mnp\u001b[0m\u001b[0;34m.\u001b[0m\u001b[0meye\u001b[0m\u001b[0;34m(\u001b[0m\u001b[0mA\u001b[0m\u001b[0;34m)\u001b[0m\u001b[0;34m\u001b[0m\u001b[0;34m\u001b[0m\u001b[0m\n\u001b[0m",
            "\u001b[0;32m/usr/local/lib/python3.7/dist-packages/numpy/lib/twodim_base.py\u001b[0m in \u001b[0;36meye\u001b[0;34m(N, M, k, dtype, order, like)\u001b[0m\n\u001b[1;32m    212\u001b[0m     \u001b[0;32mif\u001b[0m \u001b[0mM\u001b[0m \u001b[0;32mis\u001b[0m \u001b[0;32mNone\u001b[0m\u001b[0;34m:\u001b[0m\u001b[0;34m\u001b[0m\u001b[0;34m\u001b[0m\u001b[0m\n\u001b[1;32m    213\u001b[0m         \u001b[0mM\u001b[0m \u001b[0;34m=\u001b[0m \u001b[0mN\u001b[0m\u001b[0;34m\u001b[0m\u001b[0;34m\u001b[0m\u001b[0m\n\u001b[0;32m--> 214\u001b[0;31m     \u001b[0mm\u001b[0m \u001b[0;34m=\u001b[0m \u001b[0mzeros\u001b[0m\u001b[0;34m(\u001b[0m\u001b[0;34m(\u001b[0m\u001b[0mN\u001b[0m\u001b[0;34m,\u001b[0m \u001b[0mM\u001b[0m\u001b[0;34m)\u001b[0m\u001b[0;34m,\u001b[0m \u001b[0mdtype\u001b[0m\u001b[0;34m=\u001b[0m\u001b[0mdtype\u001b[0m\u001b[0;34m,\u001b[0m \u001b[0morder\u001b[0m\u001b[0;34m=\u001b[0m\u001b[0morder\u001b[0m\u001b[0;34m)\u001b[0m\u001b[0;34m\u001b[0m\u001b[0;34m\u001b[0m\u001b[0m\n\u001b[0m\u001b[1;32m    215\u001b[0m     \u001b[0;32mif\u001b[0m \u001b[0mk\u001b[0m \u001b[0;34m>=\u001b[0m \u001b[0mM\u001b[0m\u001b[0;34m:\u001b[0m\u001b[0;34m\u001b[0m\u001b[0;34m\u001b[0m\u001b[0m\n\u001b[1;32m    216\u001b[0m         \u001b[0;32mreturn\u001b[0m \u001b[0mm\u001b[0m\u001b[0;34m\u001b[0m\u001b[0;34m\u001b[0m\u001b[0m\n",
            "\u001b[0;31mTypeError\u001b[0m: only integer scalar arrays can be converted to a scalar index"
          ]
        }
      ]
    },
    {
      "cell_type": "code",
      "source": [
        "A @ E"
      ],
      "metadata": {
        "id": "hzWSY6KSrrsg",
        "colab": {
          "base_uri": "https://localhost:8080/"
        },
        "outputId": "df43474b-9c0b-4b96-d9e8-7193c46143a1"
      },
      "execution_count": 40,
      "outputs": [
        {
          "output_type": "execute_result",
          "data": {
            "text/plain": [
              "array([[14520, 10092,  8661],\n",
              "       [20530, 14403, 12524],\n",
              "       [14076, 10284,  9435]])"
            ]
          },
          "metadata": {},
          "execution_count": 40
        }
      ]
    },
    {
      "cell_type": "code",
      "source": [
        "z_mat = np.zeros(A.shape)\n",
        "z_mat"
      ],
      "metadata": {
        "id": "SpAxSwHQrv_8",
        "colab": {
          "base_uri": "https://localhost:8080/"
        },
        "outputId": "471d7670-2a2a-45e9-d183-c9c0f25118ba"
      },
      "execution_count": 41,
      "outputs": [
        {
          "output_type": "execute_result",
          "data": {
            "text/plain": [
              "array([[0., 0., 0.],\n",
              "       [0., 0., 0.],\n",
              "       [0., 0., 0.]])"
            ]
          },
          "metadata": {},
          "execution_count": 41
        }
      ]
    },
    {
      "cell_type": "code",
      "source": [
        "a_dot_z = A.dot(np.zeros(A.shape))\n",
        "a_dot_z"
      ],
      "metadata": {
        "id": "BSdIv2EMrxc4",
        "colab": {
          "base_uri": "https://localhost:8080/"
        },
        "outputId": "8a13e9ef-4298-49a3-ec11-3a4b22c7db1a"
      },
      "execution_count": 42,
      "outputs": [
        {
          "output_type": "execute_result",
          "data": {
            "text/plain": [
              "array([[0., 0., 0.],\n",
              "       [0., 0., 0.],\n",
              "       [0., 0., 0.]])"
            ]
          },
          "metadata": {},
          "execution_count": 42
        }
      ]
    },
    {
      "cell_type": "code",
      "source": [
        "np.array_equal(a_dot_z,z_mat)"
      ],
      "metadata": {
        "id": "HIjwuNfkr0EG",
        "colab": {
          "base_uri": "https://localhost:8080/"
        },
        "outputId": "5daf7f63-6974-4e68-ff84-e35ffb50f1d8"
      },
      "execution_count": 43,
      "outputs": [
        {
          "output_type": "execute_result",
          "data": {
            "text/plain": [
              "True"
            ]
          },
          "metadata": {},
          "execution_count": 43
        }
      ]
    },
    {
      "cell_type": "code",
      "source": [
        "null_mat = np.empty(A.shape, dtype=float)\n",
        "null = np.array(null_mat,dtype=float)\n",
        "print(null)\n",
        "np.allclose(a_dot_z,null)"
      ],
      "metadata": {
        "id": "q4liwJu_r1Ti",
        "colab": {
          "base_uri": "https://localhost:8080/"
        },
        "outputId": "22837f08-a41d-47b5-f9c0-3ba270aa6bd7"
      },
      "execution_count": 44,
      "outputs": [
        {
          "output_type": "stream",
          "name": "stdout",
          "text": [
            "[[0. 0. 0.]\n",
            " [0. 0. 0.]\n",
            " [0. 0. 0.]]\n"
          ]
        },
        {
          "output_type": "execute_result",
          "data": {
            "text/plain": [
              "True"
            ]
          },
          "metadata": {},
          "execution_count": 44
        }
      ]
    },
    {
      "cell_type": "markdown",
      "source": [
        "##Determinant"
      ],
      "metadata": {
        "id": "5nSu-J7-r2d0"
      }
    },
    {
      "cell_type": "markdown",
      "source": [
        "A determinant is a scalar value that may be obtained from a square matrix in two dimensions. Determinants are important values in matrix algebra because they are fundamental and important values. Although it will not be immediately apparent in this laboratory how it might be used in practice, it will be extensively utilized in subsequent lectures.\n",
        "\n",
        "The determinant of some matrix $A$ is denoted as $det(A)$ or $|A|$. So let's say $A$ is represented as:\n",
        "$$A = \\begin{bmatrix}a_{(0,0)}&a_{(0,1)}\\\\a_{(1,0)}&a_{(1,1)}\\end{bmatrix}$$\n",
        "We can compute for the determinant as:\n",
        "$$|A| = a_{(0,0)}*a_{(1,1)} - a_{(1,0)}*a_{(0,1)}$$\n",
        "So if we have $A$ as:\n",
        "$$A = \\begin{bmatrix}2&5\\\\7&9\\end{bmatrix}, |A| = $$\n",
        "However, you may question what happens to square matrices that are not of the form $(2,2)$. We may address this issue in a variety of ways, including utilizing co-factor expansion and the minors technique, among others. In the laboratory, we can learn how to do this in the lecture, but we can also programmatically compute the difficult calculation of high-dimensional matrices by using Python. This may be accomplished by the use of the function `np.linalg.det()`.\n"
      ],
      "metadata": {
        "id": "VxjVlIDor5zE"
      }
    },
    {
      "cell_type": "code",
      "source": [
        "A = np.array([\n",
        "    [2,5],\n",
        "    [7,9]\n",
        "])\n",
        "np.linalg.det(A)"
      ],
      "metadata": {
        "id": "u8d_as6JsmiB",
        "colab": {
          "base_uri": "https://localhost:8080/"
        },
        "outputId": "c74f16a0-7973-4f98-89db-d57fd4d5465f"
      },
      "execution_count": 45,
      "outputs": [
        {
          "output_type": "execute_result",
          "data": {
            "text/plain": [
              "-17.0"
            ]
          },
          "metadata": {},
          "execution_count": 45
        }
      ]
    },
    {
      "cell_type": "code",
      "source": [
        "B = np.array([\n",
        "              [2, 1, 3],\n",
        "              [3, -6 ,-7],\n",
        "              [0, -1, 4]\n",
        "])\n",
        "np.linalg.det(B)"
      ],
      "metadata": {
        "id": "9eRxJjTSstzS",
        "colab": {
          "base_uri": "https://localhost:8080/"
        },
        "outputId": "0074f9a0-eb88-40d3-b524-b2a787a92009"
      },
      "execution_count": 46,
      "outputs": [
        {
          "output_type": "execute_result",
          "data": {
            "text/plain": [
              "-83.00000000000003"
            ]
          },
          "metadata": {},
          "execution_count": 46
        }
      ]
    },
    {
      "cell_type": "code",
      "source": [
        "## Now other mathematics classes would require you to solve this by hand, \n",
        "## and that is great for practicing your memorization and coordination skills \n",
        "## but in this class we aim for simplicity and speed so we'll use programming\n",
        "## but it's completely fine if you want to try to solve this one by hand.\n",
        "B = np.array([\n",
        "    [3,9,7,4],\n",
        "    [3,6,8,3],\n",
        "    [3,9,8,2],\n",
        "    [7,5,5,2]\n",
        "])\n",
        "np.linalg.det(B)"
      ],
      "metadata": {
        "id": "PA10feTgs8ly",
        "colab": {
          "base_uri": "https://localhost:8080/"
        },
        "outputId": "4d3ae12c-9879-4a71-f1ae-0e9a7d90d64d"
      },
      "execution_count": 47,
      "outputs": [
        {
          "output_type": "execute_result",
          "data": {
            "text/plain": [
              "318.0"
            ]
          },
          "metadata": {},
          "execution_count": 47
        }
      ]
    },
    {
      "cell_type": "markdown",
      "source": [
        "##Inverse"
      ],
      "metadata": {
        "id": "FSY6WTfOtM6Y"
      }
    },
    {
      "cell_type": "markdown",
      "source": [
        "The inverse of a matrix is yet another important operation in matrix algebra that should not be overlooked. Determining the inverse of a matrix allows us to assess whether or not the matrix is solvable and has the characteristics of a system of linear equations — we'll go into more detail about this in the nect module. Another use of the inverse matrix is in the solution of the issue of divisibility between matrices between two variables. Although there is an element-by-element division method, there is no such method for splitting the whole idea of matrices. It is possible that the idea of \"dividing\" matrices is the same as that of \"inverting\" matrices in the case of inverse matrices.\n",
        "\n",
        "After that, we must go through various processes to get the inverse of the matrix we have created. So, let us suppose we have the following matrix $M$:\n",
        "$$M = \\begin{bmatrix}1&7\\\\-3&5\\end{bmatrix}$$\n",
        "First, we need to get the determinant of $M$.\n",
        "$$|M| = (1)(5)-(-3)(7) = 26$$\n",
        "Next, we need to reform the matrix into the inverse form:\n",
        "$$M^{-1} = \\frac{1}{|M|} \\begin{bmatrix} m_{(1,1)} & -m_{(0,1)} \\\\ -m_{(1,0)} & m_{(0,0)}\\end{bmatrix}$$\n",
        "So that will be:\n",
        "$$M^{-1} = \\frac{1}{26} \\begin{bmatrix} 5 & -7 \\\\ 3 & 1\\end{bmatrix} = \\begin{bmatrix} \\frac{5}{26} & \\frac{-7}{26} \\\\ \\frac{3}{26} & \\frac{1}{26}\\end{bmatrix}$$\n",
        "It is possible that you will need to apply co-factors, minors, adjugates, and other reduction techniques for higher-dimension matrices. We can use a computer program to address this problem.`np.linalg.inv()`."
      ],
      "metadata": {
        "id": "-YVM3Z2atQcq"
      }
    },
    {
      "cell_type": "code",
      "source": [
        "M = np.array([\n",
        "    [1,7],\n",
        "    [-3,5 ]\n",
        "])\n",
        "\n",
        "np.array(M @ np.linalg.inv(M), dtype=int)"
      ],
      "metadata": {
        "id": "fNPU9PEIt5ZS",
        "colab": {
          "base_uri": "https://localhost:8080/"
        },
        "outputId": "d5aea876-7adf-4579-e380-3b018d182a30"
      },
      "execution_count": 49,
      "outputs": [
        {
          "output_type": "execute_result",
          "data": {
            "text/plain": [
              "array([[1, 0],\n",
              "       [0, 1]])"
            ]
          },
          "metadata": {},
          "execution_count": 49
        }
      ]
    },
    {
      "cell_type": "code",
      "source": [
        "P = np.array([\n",
        "              [2, 5, 8],\n",
        "              [3, 6, -9],\n",
        "              [1, 4, 7]\n",
        "])\n",
        "Q = np.linalg.inv(P)\n",
        "Q"
      ],
      "metadata": {
        "id": "7dJ2cY9At_fW",
        "colab": {
          "base_uri": "https://localhost:8080/"
        },
        "outputId": "5377bf2a-34e7-483a-bb2d-c9e8015f0777"
      },
      "execution_count": 50,
      "outputs": [
        {
          "output_type": "execute_result",
          "data": {
            "text/plain": [
              "array([[ 1.44444444, -0.05555556, -1.72222222],\n",
              "       [-0.55555556,  0.11111111,  0.77777778],\n",
              "       [ 0.11111111, -0.05555556, -0.05555556]])"
            ]
          },
          "metadata": {},
          "execution_count": 50
        }
      ]
    },
    {
      "cell_type": "code",
      "source": [
        "P @ Q"
      ],
      "metadata": {
        "id": "7yIYqTVkuHtR",
        "colab": {
          "base_uri": "https://localhost:8080/"
        },
        "outputId": "71a48ad9-f3d9-4e36-9c7c-8c00d91a0f8f"
      },
      "execution_count": 51,
      "outputs": [
        {
          "output_type": "execute_result",
          "data": {
            "text/plain": [
              "array([[ 1.00000000e+00,  1.11022302e-16, -1.11022302e-16],\n",
              "       [ 4.99600361e-16,  1.00000000e+00, -2.49800181e-16],\n",
              "       [ 5.55111512e-17,  8.32667268e-17,  1.00000000e+00]])"
            ]
          },
          "metadata": {},
          "execution_count": 51
        }
      ]
    },
    {
      "cell_type": "code",
      "source": [
        "## And now let's test your skills in solving a matrix with high dimensions:\n",
        "N = np.array([\n",
        "    [18,5,23,1,0,33,5],\n",
        "    [0,45,0,11,2,4,2],\n",
        "    [5,9,20,0,0,0,3],\n",
        "    [1,6,4,4,8,43,1],\n",
        "    [8,6,8,7,1,6,1],\n",
        "    [-5,15,2,0,0,6,-30],\n",
        "    [-2,-5,1,2,1,20,12],\n",
        "])\n",
        "N_inv = np.linalg.inv(N)\n",
        "np.array(N @ N_inv,dtype=int)"
      ],
      "metadata": {
        "id": "623JYnhOuKGx",
        "colab": {
          "base_uri": "https://localhost:8080/"
        },
        "outputId": "86967526-4266-4a97-a3b1-c511996cd038"
      },
      "execution_count": 52,
      "outputs": [
        {
          "output_type": "execute_result",
          "data": {
            "text/plain": [
              "array([[0, 0, 0, 0, 0, 0, 0],\n",
              "       [0, 0, 0, 0, 0, 0, 0],\n",
              "       [0, 0, 1, 0, 0, 0, 0],\n",
              "       [0, 0, 0, 1, 0, 0, 0],\n",
              "       [0, 0, 0, 0, 0, 0, 0],\n",
              "       [0, 0, 0, 0, 0, 0, 0],\n",
              "       [0, 0, 0, 0, 0, 0, 0]])"
            ]
          },
          "metadata": {},
          "execution_count": 52
        }
      ]
    },
    {
      "cell_type": "markdown",
      "source": [
        "To validate the wether if the matric that you have solved is really the inverse, we follow this dot product property for a matrix $M$:\n",
        "$$M\\cdot M^{-1} = I$$"
      ],
      "metadata": {
        "id": "dp97iZ4wuOQ_"
      }
    },
    {
      "cell_type": "code",
      "source": [
        "squad = np.array([\n",
        "    [1.5, 1.0, 2.5],\n",
        "    [0.8, 0.1, 1.9],\n",
        "    [0.1, 0.5, 3.0]\n",
        "])\n",
        "weights = np.array([\n",
        "    [1.2, 0.3, 0.9]\n",
        "])\n",
        "p_grade = squad @ weights.T\n",
        "p_grade\n"
      ],
      "metadata": {
        "id": "aOesMR0kuMY7",
        "colab": {
          "base_uri": "https://localhost:8080/"
        },
        "outputId": "4f22ee02-f96e-4911-8d29-78b11414ea67"
      },
      "execution_count": 62,
      "outputs": [
        {
          "output_type": "execute_result",
          "data": {
            "text/plain": [
              "array([[4.35],\n",
              "       [2.7 ],\n",
              "       [2.97]])"
            ]
          },
          "metadata": {},
          "execution_count": 62
        }
      ]
    },
    {
      "cell_type": "markdown",
      "source": [
        "##Activity"
      ],
      "metadata": {
        "id": "I-G0bTNNuiU8"
      }
    },
    {
      "cell_type": "markdown",
      "source": [
        "###Task 1"
      ],
      "metadata": {
        "id": "b1D0cC3eunvo"
      }
    },
    {
      "cell_type": "code",
      "source": [
        "N = np.array([\n",
        "       [8, 6, 1, 5],\n",
        "       [6, 7, 1, 0],\n",
        "       [9, 0, 8, 8],\n",
        "       [-8, 9, 2, 3]\n",
        "])\n",
        "T = np.array([\n",
        "       [6, 6, 1, 2],\n",
        "       [6, 5, 9, 2],\n",
        "       [4, 9, 8, -4],\n",
        "       [-1, 9, 7, 2]\n",
        "])\n",
        "G = np.array([\n",
        "       [5, 1, -5, 2],\n",
        "       [0, 0, 9, 5],\n",
        "       [-4, -9, 3, 8],\n",
        "       [-7, 5, 1, 0]\n",
        "])"
      ],
      "metadata": {
        "id": "TVxSI9KuunPH"
      },
      "execution_count": 63,
      "outputs": []
    },
    {
      "cell_type": "markdown",
      "source": [
        " $A \\cdot B \\neq B \\cdot A$"
      ],
      "metadata": {
        "id": "b1mYanwObhPx"
      }
    },
    {
      "cell_type": "code",
      "source": [
        "T = (N@T) !=(T@N)\n",
        "T"
      ],
      "metadata": {
        "colab": {
          "base_uri": "https://localhost:8080/"
        },
        "id": "XlYcADCSbkMN",
        "outputId": "6d6f5a39-fc4c-4a0f-9f37-7c63bfe6bb9b"
      },
      "execution_count": 64,
      "outputs": [
        {
          "output_type": "execute_result",
          "data": {
            "text/plain": [
              "array([[ True,  True,  True,  True],\n",
              "       [ True,  True,  True,  True],\n",
              "       [ True,  True,  True,  True],\n",
              "       [ True,  True,  True,  True]])"
            ]
          },
          "metadata": {},
          "execution_count": 64
        }
      ]
    },
    {
      "cell_type": "markdown",
      "source": [
        "$A \\cdot (B \\cdot C) = (A \\cdot B) \\cdot C$\n",
        "\n"
      ],
      "metadata": {
        "id": "QMnhTTRHaCw-"
      }
    },
    {
      "cell_type": "code",
      "source": [
        "A = N @ (T@G)\n",
        "A"
      ],
      "metadata": {
        "colab": {
          "base_uri": "https://localhost:8080/"
        },
        "id": "3orTXmw1aDnM",
        "outputId": "7317c726-8202-4e2a-a03f-34d3037a7c00"
      },
      "execution_count": 65,
      "outputs": [
        {
          "output_type": "execute_result",
          "data": {
            "text/plain": [
              "array([[-120,  -60,  160,  300],\n",
              "       [ -84,  -42,  112,  210],\n",
              "       [-150,  -75,  200,  375],\n",
              "       [ -36,  -18,   48,   90]])"
            ]
          },
          "metadata": {},
          "execution_count": 65
        }
      ]
    },
    {
      "cell_type": "code",
      "source": [
        "B = (N @ T) @ G\n",
        "B"
      ],
      "metadata": {
        "colab": {
          "base_uri": "https://localhost:8080/"
        },
        "id": "TbqSdbGocGtA",
        "outputId": "02dd20aa-c44a-4b19-9467-a53def0708d0"
      },
      "execution_count": 66,
      "outputs": [
        {
          "output_type": "execute_result",
          "data": {
            "text/plain": [
              "array([[-120,  -60,  160,  300],\n",
              "       [ -84,  -42,  112,  210],\n",
              "       [-150,  -75,  200,  375],\n",
              "       [ -36,  -18,   48,   90]])"
            ]
          },
          "metadata": {},
          "execution_count": 66
        }
      ]
    },
    {
      "cell_type": "markdown",
      "source": [
        " $A\\cdot(B+C) = A\\cdot B + A\\cdot C$:\n"
      ],
      "metadata": {
        "id": "JwmrqVQoabTN"
      }
    },
    {
      "cell_type": "code",
      "source": [
        "C = N @ (T + G)\n",
        "C"
      ],
      "metadata": {
        "colab": {
          "base_uri": "https://localhost:8080/"
        },
        "id": "N2Ev8NeVab1z",
        "outputId": "aab3317d-7861-4e25-b24b-e42418f11172"
      },
      "execution_count": 67,
      "outputs": [
        {
          "output_type": "execute_result",
          "data": {
            "text/plain": [
              "array([[ 21,  44,  42,  74],\n",
              "       [ 40,  11,  50,  69],\n",
              "       [-18,   2,  12, 107],\n",
              "       [-63,  -5, 136,  51]])"
            ]
          },
          "metadata": {},
          "execution_count": 67
        }
      ]
    },
    {
      "cell_type": "code",
      "source": [
        "D = (N@T) + (N@G)\n",
        "D"
      ],
      "metadata": {
        "colab": {
          "base_uri": "https://localhost:8080/"
        },
        "id": "wNELDRHsdAQl",
        "outputId": "8c32bc6d-3e19-499f-a5e0-83a8692b8a2b"
      },
      "execution_count": 69,
      "outputs": [
        {
          "output_type": "execute_result",
          "data": {
            "text/plain": [
              "array([[ 21,  44,  42,  74],\n",
              "       [ 40,  11,  50,  69],\n",
              "       [-18,   2,  12, 107],\n",
              "       [-63,  -5, 136,  51]])"
            ]
          },
          "metadata": {},
          "execution_count": 69
        }
      ]
    },
    {
      "cell_type": "markdown",
      "source": [
        "$(B+C)\\cdot A = B\\cdot A + C\\cdot A$"
      ],
      "metadata": {
        "id": "qWDxxfDqasG4"
      }
    },
    {
      "cell_type": "code",
      "source": [
        "E = (T+G) @ N\n",
        "E"
      ],
      "metadata": {
        "colab": {
          "base_uri": "https://localhost:8080/"
        },
        "id": "BMjuHWJsdEbo",
        "outputId": "f6e53b75-22f8-4762-d3ab-04a7da69f9a2"
      },
      "execution_count": 70,
      "outputs": [
        {
          "output_type": "execute_result",
          "data": {
            "text/plain": [
              "array([[   0,   77,  -18,    7],\n",
              "       [  56,   67,   94,  103],\n",
              "       [-108,    7,   39,   44],\n",
              "       [  -2,   15,   18,  -11]])"
            ]
          },
          "metadata": {},
          "execution_count": 70
        }
      ]
    },
    {
      "cell_type": "code",
      "source": [
        "F = (T@N) + (G@N)\n",
        "F"
      ],
      "metadata": {
        "colab": {
          "base_uri": "https://localhost:8080/"
        },
        "id": "DZbOJDq6eAkN",
        "outputId": "c872fd69-0555-4272-b2ca-bbc1c72c14b1"
      },
      "execution_count": 71,
      "outputs": [
        {
          "output_type": "execute_result",
          "data": {
            "text/plain": [
              "array([[   0,   77,  -18,    7],\n",
              "       [  56,   67,   94,  103],\n",
              "       [-108,    7,   39,   44],\n",
              "       [  -2,   15,   18,  -11]])"
            ]
          },
          "metadata": {},
          "execution_count": 71
        }
      ]
    },
    {
      "cell_type": "markdown",
      "source": [
        "$A\\cdot I = A$"
      ],
      "metadata": {
        "id": "3EMP4G4ebGck"
      }
    },
    {
      "cell_type": "code",
      "source": [
        "np.eye(4)"
      ],
      "metadata": {
        "colab": {
          "base_uri": "https://localhost:8080/"
        },
        "id": "MbbKflvPd_Q3",
        "outputId": "d846b0d3-327d-40ef-9636-42783cfb0238"
      },
      "execution_count": 72,
      "outputs": [
        {
          "output_type": "execute_result",
          "data": {
            "text/plain": [
              "array([[1., 0., 0., 0.],\n",
              "       [0., 1., 0., 0.],\n",
              "       [0., 0., 1., 0.],\n",
              "       [0., 0., 0., 1.]])"
            ]
          },
          "metadata": {},
          "execution_count": 72
        }
      ]
    },
    {
      "cell_type": "code",
      "source": [
        "N.dot(np.eye(4))"
      ],
      "metadata": {
        "colab": {
          "base_uri": "https://localhost:8080/"
        },
        "id": "nr0X-s7YeBId",
        "outputId": "c4857fcc-c57d-4e56-ef12-3cb773655b37"
      },
      "execution_count": 74,
      "outputs": [
        {
          "output_type": "execute_result",
          "data": {
            "text/plain": [
              "array([[ 8.,  6.,  1.,  5.],\n",
              "       [ 6.,  7.,  1.,  0.],\n",
              "       [ 9.,  0.,  8.,  8.],\n",
              "       [-8.,  9.,  2.,  3.]])"
            ]
          },
          "metadata": {},
          "execution_count": 74
        }
      ]
    },
    {
      "cell_type": "markdown",
      "source": [
        "$A\\cdot \\emptyset = \\emptyset$ "
      ],
      "metadata": {
        "id": "KUVMQv9MbJRE"
      }
    },
    {
      "cell_type": "code",
      "source": [
        "z_mat = np.zeros(G.shape)\n",
        "z_mat"
      ],
      "metadata": {
        "colab": {
          "base_uri": "https://localhost:8080/"
        },
        "id": "bcEmSHqWd-Qx",
        "outputId": "43e6d86b-e43e-4670-a6f4-58666ee6dcfd"
      },
      "execution_count": 77,
      "outputs": [
        {
          "output_type": "execute_result",
          "data": {
            "text/plain": [
              "array([[0., 0., 0., 0.],\n",
              "       [0., 0., 0., 0.],\n",
              "       [0., 0., 0., 0.],\n",
              "       [0., 0., 0., 0.]])"
            ]
          },
          "metadata": {},
          "execution_count": 77
        }
      ]
    },
    {
      "cell_type": "markdown",
      "source": [
        "##Conclusion"
      ],
      "metadata": {
        "id": "sYNIY7k5iRKg"
      }
    },
    {
      "cell_type": "markdown",
      "source": [
        "The students demonstrated an understanding of and ability to use a variety of matrix operations, including transpository, dot product, determinant, and inverse. Students demonstrated their ability to put their learning into practice by successfully completing the task, which required them to create and execute the six multiplications characteristics."
      ],
      "metadata": {
        "id": "2ozDI9zRiTVC"
      }
    }
  ]
}