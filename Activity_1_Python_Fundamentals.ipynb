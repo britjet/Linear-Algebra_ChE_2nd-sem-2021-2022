{
  "nbformat": 4,
  "nbformat_minor": 0,
  "metadata": {
    "colab": {
      "name": "Activity 1 - Python Fundamentals",
      "provenance": [],
      "authorship_tag": "ABX9TyMW6LMc6B1VHJuSMqgN9eRI",
      "include_colab_link": true
    },
    "kernelspec": {
      "name": "python3",
      "display_name": "Python 3"
    },
    "language_info": {
      "name": "python"
    }
  },
  "cells": [
    {
      "cell_type": "markdown",
      "metadata": {
        "id": "view-in-github",
        "colab_type": "text"
      },
      "source": [
        "<a href=\"https://colab.research.google.com/github/britjet/Linear-Algebra_ChE_2nd-sem-2021-2022/blob/main/Activity_1_Python_Fundamentals.ipynb\" target=\"_parent\"><img src=\"https://colab.research.google.com/assets/colab-badge.svg\" alt=\"Open In Colab\"/></a>"
      ]
    },
    {
      "cell_type": "markdown",
      "source": [
        "# Welcome to Python Fundamemtals\n",
        "In this module, we are going to establish or review our skills in Python programming. In this notebook we are going to cover:\n",
        " \n",
        "* Variables and Data Types\n",
        "* Operations  \n",
        "* Input and Output Operations \n",
        "* Logic Control\n",
        "* Iterables\n",
        "* Functions"
      ],
      "metadata": {
        "id": "aqAJnX8gxdoP"
      }
    },
    {
      "cell_type": "markdown",
      "source": [
        "## Variable and Data Types"
      ],
      "metadata": {
        "id": "x1SQGyZt04lk"
      }
    },
    {
      "cell_type": "code",
      "source": [
        "x=2\n",
        "a,b= 0,-3\n",
        "b"
      ],
      "metadata": {
        "colab": {
          "base_uri": "https://localhost:8080/"
        },
        "id": "fCT3ED7eHFKA",
        "outputId": "5b9135dd-7b66-479b-aa71-786602973524"
      },
      "execution_count": null,
      "outputs": [
        {
          "output_type": "execute_result",
          "data": {
            "text/plain": [
              "-3"
            ]
          },
          "metadata": {},
          "execution_count": 16
        }
      ]
    },
    {
      "cell_type": "code",
      "source": [
        "type (x)"
      ],
      "metadata": {
        "colab": {
          "base_uri": "https://localhost:8080/"
        },
        "id": "b-m3j-vGHO0j",
        "outputId": "e4966157-8b12-4894-b356-ddb09abbcf02"
      },
      "execution_count": null,
      "outputs": [
        {
          "output_type": "execute_result",
          "data": {
            "text/plain": [
              "int"
            ]
          },
          "metadata": {},
          "execution_count": 2
        }
      ]
    },
    {
      "cell_type": "code",
      "source": [
        "y=1.0\n",
        "type (y)"
      ],
      "metadata": {
        "colab": {
          "base_uri": "https://localhost:8080/"
        },
        "id": "Ao8GmZjCHWat",
        "outputId": "ecf3d083-402e-4373-f7e5-7294cd789419"
      },
      "execution_count": null,
      "outputs": [
        {
          "output_type": "execute_result",
          "data": {
            "text/plain": [
              "float"
            ]
          },
          "metadata": {},
          "execution_count": 3
        }
      ]
    },
    {
      "cell_type": "code",
      "source": [
        "x= float(x)\n",
        "type (x)"
      ],
      "metadata": {
        "colab": {
          "base_uri": "https://localhost:8080/"
        },
        "id": "EcW1aFjBHniK",
        "outputId": "d40870c1-a510-4646-a75f-76c0aaef20ae"
      },
      "execution_count": null,
      "outputs": [
        {
          "output_type": "execute_result",
          "data": {
            "text/plain": [
              "float"
            ]
          },
          "metadata": {},
          "execution_count": 4
        }
      ]
    },
    {
      "cell_type": "code",
      "source": [
        "s,t,u= \"0\",'1', 'one'\n",
        "type(u)"
      ],
      "metadata": {
        "colab": {
          "base_uri": "https://localhost:8080/"
        },
        "id": "vQrn8rv9IA_f",
        "outputId": "38f129d0-4af7-4052-e337-d23b533b48af"
      },
      "execution_count": null,
      "outputs": [
        {
          "output_type": "execute_result",
          "data": {
            "text/plain": [
              "str"
            ]
          },
          "metadata": {},
          "execution_count": 5
        }
      ]
    },
    {
      "cell_type": "code",
      "source": [
        "s_int =int(s)\n",
        "s_int"
      ],
      "metadata": {
        "colab": {
          "base_uri": "https://localhost:8080/"
        },
        "id": "6AbvGwqgIO8z",
        "outputId": "9d5e5c37-c4c5-4918-e37a-191bdb3f66e2"
      },
      "execution_count": null,
      "outputs": [
        {
          "output_type": "execute_result",
          "data": {
            "text/plain": [
              "0"
            ]
          },
          "metadata": {},
          "execution_count": 6
        }
      ]
    },
    {
      "cell_type": "markdown",
      "source": [
        "## Operation"
      ],
      "metadata": {
        "id": "fXP5V7gGIkcG"
      }
    },
    {
      "cell_type": "markdown",
      "source": [
        "### Arithmetic"
      ],
      "metadata": {
        "id": "9bdGFouQIqnO"
      }
    },
    {
      "cell_type": "code",
      "source": [
        "b,r,i,t= 1.0, 2.0, 3.0, 4.0"
      ],
      "metadata": {
        "id": "Js6tHFwAIzG1"
      },
      "execution_count": null,
      "outputs": []
    },
    {
      "cell_type": "code",
      "source": [
        "#Addition\n",
        "S= b+r\n",
        "S"
      ],
      "metadata": {
        "colab": {
          "base_uri": "https://localhost:8080/"
        },
        "id": "ZjRf6EeJI-FJ",
        "outputId": "8dd49016-fd55-4dc7-95ab-bb95187b5e9b"
      },
      "execution_count": null,
      "outputs": [
        {
          "output_type": "execute_result",
          "data": {
            "text/plain": [
              "3.0"
            ]
          },
          "metadata": {},
          "execution_count": 4
        }
      ]
    },
    {
      "cell_type": "code",
      "source": [
        "###Subraction\n",
        "s= r-t\n",
        "s"
      ],
      "metadata": {
        "colab": {
          "base_uri": "https://localhost:8080/"
        },
        "id": "wreleiu3JiyX",
        "outputId": "26e8f899-53a1-4b17-b6ab-da82d7bdfd03"
      },
      "execution_count": null,
      "outputs": [
        {
          "output_type": "execute_result",
          "data": {
            "text/plain": [
              "-2.0"
            ]
          },
          "metadata": {},
          "execution_count": 5
        }
      ]
    },
    {
      "cell_type": "code",
      "source": [
        "###Multiplication\n",
        "S= b*t\n",
        "S"
      ],
      "metadata": {
        "colab": {
          "base_uri": "https://localhost:8080/"
        },
        "id": "YMi61ipSKaHT",
        "outputId": "14ff2761-fc22-40a2-c035-8cc062e7d486"
      },
      "execution_count": null,
      "outputs": [
        {
          "output_type": "execute_result",
          "data": {
            "text/plain": [
              "4.0"
            ]
          },
          "metadata": {},
          "execution_count": 6
        }
      ]
    },
    {
      "cell_type": "code",
      "source": [
        "###Division\n",
        "S= b/r\n",
        "S"
      ],
      "metadata": {
        "colab": {
          "base_uri": "https://localhost:8080/"
        },
        "id": "87RGQSf5K2vW",
        "outputId": "2a86b470-8620-4b95-9e37-aa8c0cd61f17"
      },
      "execution_count": null,
      "outputs": [
        {
          "output_type": "execute_result",
          "data": {
            "text/plain": [
              "0.5"
            ]
          },
          "metadata": {},
          "execution_count": 7
        }
      ]
    },
    {
      "cell_type": "code",
      "source": [
        "###FloorDivision\n",
        "Fq = a//b\n",
        "Fq"
      ],
      "metadata": {
        "colab": {
          "base_uri": "https://localhost:8080/"
        },
        "id": "6ZJ2BFOtLQa7",
        "outputId": "9afdcb35-8991-4661-f843-d2f0b6ce613e"
      },
      "execution_count": null,
      "outputs": [
        {
          "output_type": "execute_result",
          "data": {
            "text/plain": [
              "0.0"
            ]
          },
          "metadata": {},
          "execution_count": 25
        }
      ]
    },
    {
      "cell_type": "code",
      "source": [
        "###Explonentiation\n",
        "E = a**b\n",
        "E"
      ],
      "metadata": {
        "colab": {
          "base_uri": "https://localhost:8080/"
        },
        "id": "H9YD73SNL3lm",
        "outputId": "a2fed00f-7ad3-4871-923e-e72dae354ad5"
      },
      "execution_count": null,
      "outputs": [
        {
          "output_type": "execute_result",
          "data": {
            "text/plain": [
              "1.0"
            ]
          },
          "metadata": {},
          "execution_count": 26
        }
      ]
    },
    {
      "cell_type": "code",
      "source": [
        "### Modulo\n",
        "mod = t%b\n",
        "mod "
      ],
      "metadata": {
        "colab": {
          "base_uri": "https://localhost:8080/"
        },
        "id": "V4vVxVTU8mkP",
        "outputId": "a8160d7c-9f5e-4756-bd1f-a269d84e9ac0"
      },
      "execution_count": null,
      "outputs": [
        {
          "output_type": "execute_result",
          "data": {
            "text/plain": [
              "0.0"
            ]
          },
          "metadata": {},
          "execution_count": 8
        }
      ]
    },
    {
      "cell_type": "markdown",
      "source": [
        "##Assignment Operations"
      ],
      "metadata": {
        "id": "POqjnI2x9qNg"
      }
    },
    {
      "cell_type": "code",
      "source": [
        "B ,R, I, T = 0, 100, 2, 2"
      ],
      "metadata": {
        "id": "RgN1ldF39yxO"
      },
      "execution_count": null,
      "outputs": []
    },
    {
      "cell_type": "code",
      "source": [
        "B += a\n",
        "B"
      ],
      "metadata": {
        "colab": {
          "base_uri": "https://localhost:8080/"
        },
        "id": "w8B7om1j-GND",
        "outputId": "5d6a4259-7076-44e1-d922-5bf35375585f"
      },
      "execution_count": null,
      "outputs": [
        {
          "output_type": "execute_result",
          "data": {
            "text/plain": [
              "2.0"
            ]
          },
          "metadata": {},
          "execution_count": 14
        }
      ]
    },
    {
      "cell_type": "code",
      "source": [
        "R -= d"
      ],
      "metadata": {
        "id": "2JztmLU--lno"
      },
      "execution_count": null,
      "outputs": []
    },
    {
      "cell_type": "code",
      "source": [
        "I *= 2\n",
        "I"
      ],
      "metadata": {
        "id": "KYIj-Ltn_C2J"
      },
      "execution_count": null,
      "outputs": []
    },
    {
      "cell_type": "code",
      "source": [
        "T **= 2\n",
        "T"
      ],
      "metadata": {
        "id": "Wf9wLQ4__G8a"
      },
      "execution_count": null,
      "outputs": []
    },
    {
      "cell_type": "markdown",
      "source": [
        "##Comparators"
      ],
      "metadata": {
        "id": "jlegd338_k7K"
      }
    },
    {
      "cell_type": "code",
      "source": [
        "res_1, res_2, res_3 = 1,2.0,\"1\"\n",
        "true_val = 1.0"
      ],
      "metadata": {
        "id": "I99T4xVt_zPe"
      },
      "execution_count": null,
      "outputs": []
    },
    {
      "cell_type": "code",
      "source": [
        "##Equality\n",
        "res_1 == true_val"
      ],
      "metadata": {
        "colab": {
          "base_uri": "https://localhost:8080/"
        },
        "id": "vDQ9QQAoAD1-",
        "outputId": "c0aadc67-5eb4-43af-cc5b-b89c609fd699"
      },
      "execution_count": null,
      "outputs": [
        {
          "output_type": "execute_result",
          "data": {
            "text/plain": [
              "True"
            ]
          },
          "metadata": {},
          "execution_count": 20
        }
      ]
    },
    {
      "cell_type": "code",
      "source": [
        "##Non-Equality\n",
        "res_2 != true_val"
      ],
      "metadata": {
        "colab": {
          "base_uri": "https://localhost:8080/"
        },
        "id": "o462DhbGALke",
        "outputId": "3c913232-05ba-4953-9f28-eed9168461db"
      },
      "execution_count": null,
      "outputs": [
        {
          "output_type": "execute_result",
          "data": {
            "text/plain": [
              "True"
            ]
          },
          "metadata": {},
          "execution_count": 22
        }
      ]
    },
    {
      "cell_type": "code",
      "source": [
        "## Inequality\n",
        "t1 = res_1 > res_2\n",
        "t2 = res_1 < res_2/2\n",
        "t3 = res_1 >= res_2/2\n",
        "t4 = res_1 <= res_2\n",
        "t4"
      ],
      "metadata": {
        "colab": {
          "base_uri": "https://localhost:8080/"
        },
        "id": "TFfabcWHAdgZ",
        "outputId": "1743781f-11ac-4788-bcc2-514d15874199"
      },
      "execution_count": null,
      "outputs": [
        {
          "output_type": "execute_result",
          "data": {
            "text/plain": [
              "True"
            ]
          },
          "metadata": {},
          "execution_count": 25
        }
      ]
    },
    {
      "cell_type": "markdown",
      "source": [
        "##Logical"
      ],
      "metadata": {
        "id": "8GBvTWLABjTw"
      }
    },
    {
      "cell_type": "code",
      "source": [
        "res_1 == true_val"
      ],
      "metadata": {
        "colab": {
          "base_uri": "https://localhost:8080/"
        },
        "id": "5DnN_rj-Bm7n",
        "outputId": "9931e540-7677-4a97-8e93-862de0e5fd3d"
      },
      "execution_count": null,
      "outputs": [
        {
          "output_type": "execute_result",
          "data": {
            "text/plain": [
              "True"
            ]
          },
          "metadata": {},
          "execution_count": 26
        }
      ]
    },
    {
      "cell_type": "code",
      "source": [
        "res_1 is true_val"
      ],
      "metadata": {
        "colab": {
          "base_uri": "https://localhost:8080/"
        },
        "id": "KXIUi2TNB2Ok",
        "outputId": "b6a810a0-33a4-4c7a-d111-0d2255f5ba75"
      },
      "execution_count": null,
      "outputs": [
        {
          "output_type": "execute_result",
          "data": {
            "text/plain": [
              "False"
            ]
          },
          "metadata": {},
          "execution_count": 27
        }
      ]
    },
    {
      "cell_type": "code",
      "source": [
        "res_1 is not true_val"
      ],
      "metadata": {
        "colab": {
          "base_uri": "https://localhost:8080/"
        },
        "id": "rNPtf6JRB68w",
        "outputId": "29764bea-a13e-4cc3-808b-f3815ca8849f"
      },
      "execution_count": null,
      "outputs": [
        {
          "output_type": "execute_result",
          "data": {
            "text/plain": [
              "True"
            ]
          },
          "metadata": {},
          "execution_count": 28
        }
      ]
    },
    {
      "cell_type": "code",
      "source": [
        "p,q = True, False\n",
        "conj = p and q\n",
        "conj"
      ],
      "metadata": {
        "colab": {
          "base_uri": "https://localhost:8080/"
        },
        "id": "oWijnMN2B_AP",
        "outputId": "8ce690d2-85ac-44d8-cbf3-97a7a9dc5d79"
      },
      "execution_count": null,
      "outputs": [
        {
          "output_type": "execute_result",
          "data": {
            "text/plain": [
              "False"
            ]
          },
          "metadata": {},
          "execution_count": 29
        }
      ]
    },
    {
      "cell_type": "code",
      "source": [
        "p,q =True, False\n",
        "disj = p,q \n",
        "disj"
      ],
      "metadata": {
        "colab": {
          "base_uri": "https://localhost:8080/"
        },
        "id": "9OlMDIW0CNEW",
        "outputId": "171e0d02-d877-4162-ee68-484eff3d06b7"
      },
      "execution_count": null,
      "outputs": [
        {
          "output_type": "execute_result",
          "data": {
            "text/plain": [
              "(True, False)"
            ]
          },
          "metadata": {},
          "execution_count": 30
        }
      ]
    },
    {
      "cell_type": "code",
      "source": [
        "p,q = True, False\n",
        "nand = not(p and q)\n",
        "nand"
      ],
      "metadata": {
        "colab": {
          "base_uri": "https://localhost:8080/"
        },
        "id": "zHIgpEI9CXQH",
        "outputId": "67b54d95-fb01-4321-b61e-9eab6df9b41a"
      },
      "execution_count": null,
      "outputs": [
        {
          "output_type": "execute_result",
          "data": {
            "text/plain": [
              "True"
            ]
          },
          "metadata": {},
          "execution_count": 31
        }
      ]
    },
    {
      "cell_type": "code",
      "source": [
        "p, q = True, False\n",
        "xor = (not p and q) or (p an not q)\n",
        "xor"
      ],
      "metadata": {
        "colab": {
          "base_uri": "https://localhost:8080/",
          "height": 135
        },
        "id": "C_Sp7fhaCsVh",
        "outputId": "4894d9c1-c7ed-4db4-fb55-f5a67687e217"
      },
      "execution_count": null,
      "outputs": [
        {
          "output_type": "error",
          "ename": "SyntaxError",
          "evalue": "ignored",
          "traceback": [
            "\u001b[0;36m  File \u001b[0;32m\"<ipython-input-33-a5366fdc8d0e>\"\u001b[0;36m, line \u001b[0;32m2\u001b[0m\n\u001b[0;31m    xor = (not p and q) or (p an not q)\u001b[0m\n\u001b[0m                               ^\u001b[0m\n\u001b[0;31mSyntaxError\u001b[0m\u001b[0;31m:\u001b[0m invalid syntax\n"
          ]
        }
      ]
    },
    {
      "cell_type": "markdown",
      "source": [
        "##"
      ],
      "metadata": {
        "id": "3Jy2hwDjDDUL"
      }
    },
    {
      "cell_type": "code",
      "source": [
        "w_pg, w_mg, w_fg= 03., 0.3, 0.4\n",
        "print(\"The Weights of your semestral grade are :\\\n",
        "  \\n\\t{:.2%} for Prelims\\\n",
        "  \\n\\t{:.2%} for Midterms, and\\\n",
        "  \\n\\t{:.2%} for Finals.\".formats (w_pg, w_mg, w_fg))"
      ],
      "metadata": {
        "id": "axPw6smGDC8v",
        "outputId": "df021fa6-2165-4e3d-af82-1c206fe37185",
        "colab": {
          "base_uri": "https://localhost:8080/",
          "height": 200
        }
      },
      "execution_count": 33,
      "outputs": [
        {
          "output_type": "error",
          "ename": "AttributeError",
          "evalue": "ignored",
          "traceback": [
            "\u001b[0;31m---------------------------------------------------------------------------\u001b[0m",
            "\u001b[0;31mAttributeError\u001b[0m                            Traceback (most recent call last)",
            "\u001b[0;32m<ipython-input-33-d4e831e77a4f>\u001b[0m in \u001b[0;36m<module>\u001b[0;34m()\u001b[0m\n\u001b[1;32m      1\u001b[0m \u001b[0mw_pg\u001b[0m\u001b[0;34m,\u001b[0m \u001b[0mw_mg\u001b[0m\u001b[0;34m,\u001b[0m \u001b[0mw_fg\u001b[0m\u001b[0;34m=\u001b[0m \u001b[0;36m03.\u001b[0m\u001b[0;34m,\u001b[0m \u001b[0;36m0.3\u001b[0m\u001b[0;34m,\u001b[0m \u001b[0;36m0.4\u001b[0m\u001b[0;34m\u001b[0m\u001b[0;34m\u001b[0m\u001b[0m\n\u001b[0;32m----> 2\u001b[0;31m \u001b[0mprint\u001b[0m\u001b[0;34m(\u001b[0m\u001b[0;34m\"The Weights of your semestral grade are :  \\n\\t{:.2%} for Prelims  \\n\\t{:.2%} for Midterms, and  \\n\\t{:.2%} for Finals.\"\u001b[0m\u001b[0;34m.\u001b[0m\u001b[0mformats\u001b[0m \u001b[0;34m(\u001b[0m\u001b[0mw_pg\u001b[0m\u001b[0;34m,\u001b[0m \u001b[0mw_mg\u001b[0m\u001b[0;34m,\u001b[0m \u001b[0mw_fg\u001b[0m\u001b[0;34m)\u001b[0m\u001b[0;34m)\u001b[0m\u001b[0;34m\u001b[0m\u001b[0;34m\u001b[0m\u001b[0m\n\u001b[0m",
            "\u001b[0;31mAttributeError\u001b[0m: 'str' object has no attribute 'formats'"
          ]
        }
      ]
    },
    {
      "cell_type": "code",
      "source": [
        "name=input(\"Britney: \")\n",
        "pg= input (\"Enter prelim grade: \")\n",
        "mg= input (\"Enter midterms grade: \")"
      ],
      "metadata": {
        "id": "xH0fe529EpW7"
      },
      "execution_count": null,
      "outputs": []
    },
    {
      "cell_type": "markdown",
      "source": [
        ""
      ],
      "metadata": {
        "id": "46JgvJr6FFXU"
      }
    },
    {
      "cell_type": "markdown",
      "source": [
        "##Loping Statement"
      ],
      "metadata": {
        "id": "pQanmKC9FFwu"
      }
    },
    {
      "cell_type": "markdown",
      "source": [
        "##While"
      ],
      "metadata": {
        "id": "zkiKJRxHFJ6q"
      }
    },
    {
      "cell_type": "code",
      "source": [
        "## while loops\n",
        "i, j, = 0, 10\n",
        "while(i<=j):\n",
        "  print(f\"{i}\\t|\\t{j}\")\n",
        "  i+=1"
      ],
      "metadata": {
        "id": "3Uw5FVyYFdw5",
        "outputId": "ee2ad0b5-c9ec-48d4-e948-b960a49e8ed9",
        "colab": {
          "base_uri": "https://localhost:8080/"
        }
      },
      "execution_count": 19,
      "outputs": [
        {
          "output_type": "stream",
          "name": "stdout",
          "text": [
            "0\t|\t10\n",
            "1\t|\t10\n",
            "2\t|\t10\n",
            "3\t|\t10\n",
            "4\t|\t10\n",
            "5\t|\t10\n",
            "6\t|\t10\n",
            "7\t|\t10\n",
            "8\t|\t10\n",
            "9\t|\t10\n",
            "10\t|\t10\n"
          ]
        }
      ]
    },
    {
      "cell_type": "markdown",
      "source": [
        "#For"
      ],
      "metadata": {
        "id": "XGrKUjbEG7kj"
      }
    },
    {
      "cell_type": "code",
      "source": [
        "# for(int i=0; i<10; i++){\n",
        "# printf(i)\n",
        "# }\n",
        "\n",
        "i=0\n",
        "for i in range(11):\n",
        "  print(i)"
      ],
      "metadata": {
        "id": "lC5P8EpyG-DC",
        "outputId": "f931498c-1bed-4f98-fe34-2e9473945e87",
        "colab": {
          "base_uri": "https://localhost:8080/"
        }
      },
      "execution_count": 20,
      "outputs": [
        {
          "output_type": "stream",
          "name": "stdout",
          "text": [
            "0\n",
            "1\n",
            "2\n",
            "3\n",
            "4\n",
            "5\n",
            "6\n",
            "7\n",
            "8\n",
            "9\n",
            "10\n"
          ]
        }
      ]
    },
    {
      "cell_type": "code",
      "source": [
        "playlist=[\"Crazier\", \"Bahay-kubo\", \"Happier\"]\n",
        "print('Now Playing:\\n')\n",
        "for song in playlist:\n",
        "  print(song)"
      ],
      "metadata": {
        "id": "EChAVaq4HpK7",
        "outputId": "472bff72-4ad5-452c-a7ea-606b58cd1bb5",
        "colab": {
          "base_uri": "https://localhost:8080/"
        }
      },
      "execution_count": 21,
      "outputs": [
        {
          "output_type": "stream",
          "name": "stdout",
          "text": [
            "Now Playing:\n",
            "\n",
            "Crazier\n",
            "Bahay-kubo\n",
            "Happier\n"
          ]
        }
      ]
    },
    {
      "cell_type": "markdown",
      "source": [
        "#Flow Control"
      ],
      "metadata": {
        "id": "TKz5I6MRIIkl"
      }
    },
    {
      "cell_type": "markdown",
      "source": [
        "##Control Statements"
      ],
      "metadata": {
        "id": "EnzrBJpxILZ5"
      }
    },
    {
      "cell_type": "code",
      "source": [
        "numeral1, numeral2=12,15\n",
        "if (numeral1==numeral2):\n",
        "  print(\"hatdog\")\n",
        "elif(numeral1>numeral2):\n",
        "  print (\"sushi\")\n",
        "else:\n",
        "  print('yumburger')"
      ],
      "metadata": {
        "id": "T4_LBJ8-IW7g",
        "outputId": "fed2392b-51ff-4800-cc1b-df66aea923fe",
        "colab": {
          "base_uri": "https://localhost:8080/"
        }
      },
      "execution_count": 24,
      "outputs": [
        {
          "output_type": "stream",
          "name": "stdout",
          "text": [
            "yumburger\n"
          ]
        }
      ]
    },
    {
      "cell_type": "markdown",
      "source": [
        "##Function"
      ],
      "metadata": {
        "id": "L9DNHPq4J0Wg"
      }
    },
    {
      "cell_type": "code",
      "source": [
        "#void DeleteUser(int userid){\n",
        "#     delete(userid);\n",
        "# }\n",
        "\n",
        "def delete_user (userid):\n",
        "  print(\"Sucessfuly deleted user: {}\". format (userid))\n",
        "\n",
        "def delete_all_users():\n",
        "  print(\"Successfully deleted all users\")"
      ],
      "metadata": {
        "id": "IhVlQ1eUJ2sr"
      },
      "execution_count": 30,
      "outputs": []
    },
    {
      "cell_type": "code",
      "source": [
        "userid= 202014129\n",
        "delete_user(202014129)\n",
        "delete_all_users()"
      ],
      "metadata": {
        "id": "Eily5XvmKh4S",
        "outputId": "01238f34-f86d-479e-f354-73d1fdb5b879",
        "colab": {
          "base_uri": "https://localhost:8080/"
        }
      },
      "execution_count": 31,
      "outputs": [
        {
          "output_type": "stream",
          "name": "stdout",
          "text": [
            "Sucessfuly deleted user: 202014129\n",
            "Successfully deleted all users\n"
          ]
        }
      ]
    },
    {
      "cell_type": "code",
      "source": [
        "def add(addend1, addend2):\n",
        "    print(\"I know to add addend1 and addend2\")\n",
        "    return addend1 + addend2\n",
        "\n",
        "def power_of_base2(exponent):\n",
        "  return 2**exponent\n",
        "\n",
        "addend1 = 5\n",
        "addend2 = 10\n",
        "\n",
        "exponent = 5 \n",
        "\n",
        "#add(addend1, addend2)\n",
        "power_of_base2(exponent)"
      ],
      "metadata": {
        "id": "wfdHxGuiM2jQ",
        "outputId": "d5bc824c-d5d4-418a-e704-61d1a8f3c99c",
        "colab": {
          "base_uri": "https://localhost:8080/"
        }
      },
      "execution_count": 34,
      "outputs": [
        {
          "output_type": "execute_result",
          "data": {
            "text/plain": [
              "32"
            ]
          },
          "metadata": {},
          "execution_count": 34
        }
      ]
    },
    {
      "cell_type": "code",
      "source": [
        "add(addend1, addend2)"
      ],
      "metadata": {
        "id": "9daH73qcNp1v",
        "outputId": "ddb0c6e7-48d5-436d-f746-c92af28d477a",
        "colab": {
          "base_uri": "https://localhost:8080/"
        }
      },
      "execution_count": 35,
      "outputs": [
        {
          "output_type": "stream",
          "name": "stdout",
          "text": [
            "I know to add addend1 and addend2\n"
          ]
        },
        {
          "output_type": "execute_result",
          "data": {
            "text/plain": [
              "15"
            ]
          },
          "metadata": {},
          "execution_count": 35
        }
      ]
    }
  ]
}