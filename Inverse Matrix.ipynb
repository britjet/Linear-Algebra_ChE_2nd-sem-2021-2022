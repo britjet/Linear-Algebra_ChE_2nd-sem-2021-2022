{
  "nbformat": 4,
  "nbformat_minor": 0,
  "metadata": {
    "colab": {
      "name": "Untitled2.ipynb",
      "provenance": [],
      "collapsed_sections": [],
      "authorship_tag": "ABX9TyMhoNtKJ1p7pZdwzpmCfliL",
      "include_colab_link": true
    },
    "kernelspec": {
      "name": "python3",
      "display_name": "Python 3"
    },
    "language_info": {
      "name": "python"
    }
  },
  "cells": [
    {
      "cell_type": "markdown",
      "metadata": {
        "id": "view-in-github",
        "colab_type": "text"
      },
      "source": [
        "<a href=\"https://colab.research.google.com/github/britjet/Linear-Algebra_ChE_2nd-sem-2021-2022/blob/main/Inverse%20Matrix.ipynb\" target=\"_parent\"><img src=\"https://colab.research.google.com/assets/colab-badge.svg\" alt=\"Open In Colab\"/></a>"
      ]
    },
    {
      "cell_type": "markdown",
      "source": [
        "##Discussion"
      ],
      "metadata": {
        "id": "NGDTU8J4XCNQ"
      }
    },
    {
      "cell_type": "code",
      "execution_count": 1,
      "metadata": {
        "id": "NsTwdupSTBRn"
      },
      "outputs": [],
      "source": [
        "import numpy as np\n",
        "import matplotlib.pyplot as plt\n",
        "%matplotlib inline\n"
      ]
    },
    {
      "cell_type": "markdown",
      "source": [
        "##Transposition"
      ],
      "metadata": {
        "id": "flXjd7ttTi7W"
      }
    },
    {
      "cell_type": "markdown",
      "source": [
        "meaning"
      ],
      "metadata": {
        "id": "Km2Y1M8ETlhm"
      }
    },
    {
      "cell_type": "markdown",
      "source": [
        "$$A = \\begin{bmatrix} -2 & 3 & -4 \\\\ 3 & -2 & 1 \\\\ 2 & -1 & 3 \\end{bmatrix}\n",
        "$$"
      ],
      "metadata": {
        "id": "uJ9ETm8eTnfl"
      }
    },
    {
      "cell_type": "markdown",
      "source": [
        "$$A^T = \\begin{bmatrix} -2 & 3 & -4 \\\\ 3 & -2 & 1 \\\\ 2 & -1 & 3 \\end{bmatrix}\n",
        "$$"
      ],
      "metadata": {
        "id": "hgvwFaQxWLbe"
      }
    },
    {
      "cell_type": "markdown",
      "source": [
        "explain"
      ],
      "metadata": {
        "id": "DxjpAvaQUdZe"
      }
    },
    {
      "cell_type": "code",
      "source": [
        "A = np.array([\n",
        "    [2,4,6],\n",
        "    [3,6,9],\n",
        "    [0,1,3]\n",
        "])\n",
        "A"
      ],
      "metadata": {
        "colab": {
          "base_uri": "https://localhost:8080/"
        },
        "id": "hccL0kvJTilO",
        "outputId": "fd59ec35-f24a-49d4-8dd0-072b0da1e3d0"
      },
      "execution_count": 2,
      "outputs": [
        {
          "output_type": "execute_result",
          "data": {
            "text/plain": [
              "array([[2, 4, 6],\n",
              "       [3, 6, 9],\n",
              "       [0, 1, 3]])"
            ]
          },
          "metadata": {},
          "execution_count": 2
        }
      ]
    },
    {
      "cell_type": "code",
      "source": [
        "AT1 = np.transpose(A)\n",
        "AT1"
      ],
      "metadata": {
        "colab": {
          "base_uri": "https://localhost:8080/"
        },
        "id": "dkxom6HZVVPt",
        "outputId": "303a4756-8348-4a3b-8273-74890e64fa6c"
      },
      "execution_count": 3,
      "outputs": [
        {
          "output_type": "execute_result",
          "data": {
            "text/plain": [
              "array([[2, 3, 0],\n",
              "       [4, 6, 1],\n",
              "       [6, 9, 3]])"
            ]
          },
          "metadata": {},
          "execution_count": 3
        }
      ]
    },
    {
      "cell_type": "code",
      "source": [
        "AT2 = A.T\n",
        "AT2"
      ],
      "metadata": {
        "colab": {
          "base_uri": "https://localhost:8080/"
        },
        "id": "HhqfSKcuVkzI",
        "outputId": "853d3358-91b9-40d2-8805-3760a4a3e10e"
      },
      "execution_count": 4,
      "outputs": [
        {
          "output_type": "execute_result",
          "data": {
            "text/plain": [
              "array([[2, 3, 0],\n",
              "       [4, 6, 1],\n",
              "       [6, 9, 3]])"
            ]
          },
          "metadata": {},
          "execution_count": 4
        }
      ]
    },
    {
      "cell_type": "code",
      "source": [
        "np.array_equiv(AT1, AT2)"
      ],
      "metadata": {
        "colab": {
          "base_uri": "https://localhost:8080/"
        },
        "id": "9y67koMTVwWJ",
        "outputId": "a9501ae1-a7af-41a2-bea2-3e41d32d429f"
      },
      "execution_count": 5,
      "outputs": [
        {
          "output_type": "execute_result",
          "data": {
            "text/plain": [
              "True"
            ]
          },
          "metadata": {},
          "execution_count": 5
        }
      ]
    },
    {
      "cell_type": "code",
      "source": [
        "B = np.array([\n",
        "    [3,9,7],\n",
        "    [4,2,5],\n",
        "])\n",
        "B.shape"
      ],
      "metadata": {
        "colab": {
          "base_uri": "https://localhost:8080/"
        },
        "id": "GA6ZQy3IYPO5",
        "outputId": "69972952-5f85-477c-b820-26089bff0409"
      },
      "execution_count": 6,
      "outputs": [
        {
          "output_type": "execute_result",
          "data": {
            "text/plain": [
              "(2, 3)"
            ]
          },
          "metadata": {},
          "execution_count": 6
        }
      ]
    },
    {
      "cell_type": "code",
      "source": [
        "np.transpose(B).shape"
      ],
      "metadata": {
        "colab": {
          "base_uri": "https://localhost:8080/"
        },
        "id": "fyxD8c_sYfu-",
        "outputId": "c1f64124-e80c-48c5-b88d-72439cd424f1"
      },
      "execution_count": 7,
      "outputs": [
        {
          "output_type": "execute_result",
          "data": {
            "text/plain": [
              "(3, 2)"
            ]
          },
          "metadata": {},
          "execution_count": 7
        }
      ]
    },
    {
      "cell_type": "code",
      "source": [
        "B.T. shape"
      ],
      "metadata": {
        "colab": {
          "base_uri": "https://localhost:8080/"
        },
        "id": "LeT0ophOYjmV",
        "outputId": "5d8582e2-0d27-496f-a57a-5746efd4ec5a"
      },
      "execution_count": 8,
      "outputs": [
        {
          "output_type": "execute_result",
          "data": {
            "text/plain": [
              "(3, 2)"
            ]
          },
          "metadata": {},
          "execution_count": 8
        }
      ]
    },
    {
      "cell_type": "markdown",
      "source": [
        "#Dot Product "
      ],
      "metadata": {
        "id": "FHdvFgRrYN3e"
      }
    },
    {
      "cell_type": "markdown",
      "source": [
        "explaination"
      ],
      "metadata": {
        "id": "Uc4EuZM6Y_Ik"
      }
    },
    {
      "cell_type": "code",
      "source": [
        "X = np.array([\n",
        "    [3,9],\n",
        "    [0,9]\n",
        "])\n",
        "Y = np.array([\n",
        "    [-9,5],\n",
        "    [5,5]\n",
        "])"
      ],
      "metadata": {
        "id": "4stsUZ0GZCLQ"
      },
      "execution_count": 9,
      "outputs": []
    },
    {
      "cell_type": "code",
      "source": [
        "np.array_equiv(X, Y)"
      ],
      "metadata": {
        "colab": {
          "base_uri": "https://localhost:8080/"
        },
        "id": "KSk050C-ZWV8",
        "outputId": "858544c4-e701-4dd9-91da-42dc420020db"
      },
      "execution_count": 10,
      "outputs": [
        {
          "output_type": "execute_result",
          "data": {
            "text/plain": [
              "False"
            ]
          },
          "metadata": {},
          "execution_count": 10
        }
      ]
    },
    {
      "cell_type": "code",
      "source": [
        "np.dot(X, Y)"
      ],
      "metadata": {
        "colab": {
          "base_uri": "https://localhost:8080/"
        },
        "id": "ESzfhGZnZkEX",
        "outputId": "561c9986-784d-438f-f19d-585005c02912"
      },
      "execution_count": 11,
      "outputs": [
        {
          "output_type": "execute_result",
          "data": {
            "text/plain": [
              "array([[18, 60],\n",
              "       [45, 45]])"
            ]
          },
          "metadata": {},
          "execution_count": 11
        }
      ]
    },
    {
      "cell_type": "code",
      "source": [
        "X.dot(Y)"
      ],
      "metadata": {
        "colab": {
          "base_uri": "https://localhost:8080/"
        },
        "id": "ZZ4G6bvJbkjR",
        "outputId": "630c34dc-9dfa-40ec-82eb-6e4f2da30670"
      },
      "execution_count": 13,
      "outputs": [
        {
          "output_type": "execute_result",
          "data": {
            "text/plain": [
              "array([[18, 60],\n",
              "       [45, 45]])"
            ]
          },
          "metadata": {},
          "execution_count": 13
        }
      ]
    },
    {
      "cell_type": "code",
      "source": [
        "X @ Y"
      ],
      "metadata": {
        "colab": {
          "base_uri": "https://localhost:8080/"
        },
        "id": "1oqBUd86Zds9",
        "outputId": "dcf26be0-97e2-4d26-c417-6450da201787"
      },
      "execution_count": 12,
      "outputs": [
        {
          "output_type": "execute_result",
          "data": {
            "text/plain": [
              "array([[18, 60],\n",
              "       [45, 45]])"
            ]
          },
          "metadata": {},
          "execution_count": 12
        }
      ]
    },
    {
      "cell_type": "markdown",
      "source": [
        ""
      ],
      "metadata": {
        "id": "QZvPQ7MGbqK_"
      }
    },
    {
      "cell_type": "markdown",
      "source": [
        "##Rule 1: The "
      ],
      "metadata": {
        "id": "t3xjjO9xbq8O"
      }
    },
    {
      "cell_type": "code",
      "source": [
        "A @ B.T"
      ],
      "metadata": {
        "id": "-TqrqBTIdX2P"
      },
      "execution_count": null,
      "outputs": []
    },
    {
      "cell_type": "code",
      "source": [
        "X = np.array([\n",
        "    [2,5,8,9]\n",
        "])\n",
        "Y = np.array([\n",
        "   [3,6,9,10]\n",
        "])\n",
        "print(X.shape)\n",
        "print(Y.shape)"
      ],
      "metadata": {
        "id": "zAKa7x9XddP3"
      },
      "execution_count": null,
      "outputs": []
    },
    {
      "cell_type": "code",
      "source": [
        "A = np.array([\n",
        "    [5,6],\n",
        "    [3,8],\n",
        "    [0,8]\n",
        "])\n",
        "B = np.array([\n",
        "    [5,9],\n",
        "    [4,6],\n",
        "    [-3,-8]\n",
        "])\n",
        "C = np.array([\n",
        "    [2,8],\n",
        "    [3,6]\n",
        "])\n",
        "print(A.shape)\n",
        "print(B.shape)\n",
        "print(C.shape)\n"
      ],
      "metadata": {
        "id": "GF9sa84NbrM_"
      },
      "execution_count": null,
      "outputs": []
    },
    {
      "cell_type": "code",
      "source": [
        "A @ C"
      ],
      "metadata": {
        "id": "bgp9itOfcrxP"
      },
      "execution_count": null,
      "outputs": []
    },
    {
      "cell_type": "code",
      "source": [
        "B @ C"
      ],
      "metadata": {
        "id": "DfVJjGufcui6"
      },
      "execution_count": null,
      "outputs": []
    },
    {
      "cell_type": "markdown",
      "source": [
        ""
      ],
      "metadata": {
        "id": "IsBz7kQ9ffKu"
      }
    },
    {
      "cell_type": "code",
      "source": [
        "A = np.array([\n",
        "    [3,5],\n",
        "    [5,9]\n",
        "])\n",
        "np.linalg.det(A)"
      ],
      "metadata": {
        "colab": {
          "base_uri": "https://localhost:8080/"
        },
        "id": "oa1JCyvad6Sq",
        "outputId": "b733af31-b360-483d-add1-7204cf946c1e"
      },
      "execution_count": 14,
      "outputs": [
        {
          "output_type": "execute_result",
          "data": {
            "text/plain": [
              "2.0000000000000013"
            ]
          },
          "metadata": {},
          "execution_count": 14
        }
      ]
    },
    {
      "cell_type": "code",
      "source": [
        "B = np.array([\n",
        "              [0,1,4],\n",
        "              [7,2,5],\n",
        "              [5,8,9]\n",
        "])\n",
        "np.linalg.det(B)"
      ],
      "metadata": {
        "colab": {
          "base_uri": "https://localhost:8080/"
        },
        "id": "2AGXAxUKfePA",
        "outputId": "122c33cc-2b59-4d5a-dff9-bbcb7780e578"
      },
      "execution_count": 15,
      "outputs": [
        {
          "output_type": "execute_result",
          "data": {
            "text/plain": [
              "146.0"
            ]
          },
          "metadata": {},
          "execution_count": 15
        }
      ]
    },
    {
      "cell_type": "code",
      "source": [
        "K = np.array([\n",
        "              [7,8,9],\n",
        "              [4,5,6],\n",
        "              [-2,-8,-1]\n",
        "])\n",
        "L = np.linalg.inv(K)\n",
        "L"
      ],
      "metadata": {
        "id": "6AbVm7EYhUTP"
      },
      "execution_count": null,
      "outputs": []
    },
    {
      "cell_type": "code",
      "source": [
        "K @ L"
      ],
      "metadata": {
        "id": "Xr76xzyThqy_"
      },
      "execution_count": null,
      "outputs": []
    },
    {
      "cell_type": "code",
      "source": [
        ""
      ],
      "metadata": {
        "id": "hJUDet29h1-O"
      },
      "execution_count": null,
      "outputs": []
    }
  ]
}