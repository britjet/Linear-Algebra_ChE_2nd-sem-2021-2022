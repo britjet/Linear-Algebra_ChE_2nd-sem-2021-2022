{
  "nbformat": 4,
  "nbformat_minor": 0,
  "metadata": {
    "colab": {
      "name": "Matrix Operation",
      "provenance": [],
      "authorship_tag": "ABX9TyPALyacHe5/L9p17swhMCAN",
      "include_colab_link": true
    },
    "kernelspec": {
      "name": "python3",
      "display_name": "Python 3"
    },
    "language_info": {
      "name": "python"
    }
  },
  "cells": [
    {
      "cell_type": "markdown",
      "metadata": {
        "id": "view-in-github",
        "colab_type": "text"
      },
      "source": [
        "<a href=\"https://colab.research.google.com/github/britjet/Linear-Algebra_ChE_2nd-sem-2021-2022/blob/main/Matrix_Operation.ipynb\" target=\"_parent\"><img src=\"https://colab.research.google.com/assets/colab-badge.svg\" alt=\"Open In Colab\"/></a>"
      ]
    },
    {
      "cell_type": "markdown",
      "source": [
        "#Assignment in ChE"
      ],
      "metadata": {
        "id": "L5yO_j3vMc86"
      }
    },
    {
      "cell_type": "markdown",
      "source": [
        "# Objectives\n",
        "At the end of this activity you will be able to:\n",
        "1. Understand the concept of matrices and how they relate to linear equations.\n",
        "2. Basic matrix computations are performed.\n",
        "3. Python is a programming language that may be used to program and interpret matrix equations and operations.\n",
        "\n"
      ],
      "metadata": {
        "id": "wOLP0l2fMl6w"
      }
    },
    {
      "cell_type": "markdown",
      "source": [
        "##Discussion"
      ],
      "metadata": {
        "id": "DOZYgq10NXj2"
      }
    },
    {
      "cell_type": "code",
      "source": [
        "import numpy as np\n",
        "import matplotlib.pyplot as plt\n",
        "import scipy.linalg as la\n",
        "%matplotlib inline\n"
      ],
      "metadata": {
        "id": "kZOiIUCwM0Eg"
      },
      "execution_count": 1,
      "outputs": []
    },
    {
      "cell_type": "markdown",
      "source": [
        "###Matrices\n",
        "The usage and notation of matrices are most likely one of the basics of contemporary computing. Matrices are also helpful in representing complicated equations or several interconnected equations, ranging from 2-dimensional equations to hundreds of thousands.\n"
      ],
      "metadata": {
        "id": "SkxwPM3rNiB0"
      }
    },
    {
      "cell_type": "markdown",
      "source": [
        "Assume you have A and B as a system of equations."
      ],
      "metadata": {
        "id": "zoWXK_QNQrU1"
      }
    },
    {
      "cell_type": "markdown",
      "source": [
        "$$\n",
        "A = \\left\\{\n",
        "    \\begin{array}\\\n",
        "        x + y \\\\ \n",
        "        8x - 20y\n",
        "    \\end{array}\n",
        "\\right. \\\\\n",
        "B = \\left\\{\n",
        "    \\begin{array}\\\n",
        "        x+y+z \\\\ \n",
        "        1x -27y -5z \\\\\n",
        "        -2x + 6y +9z\n",
        "    \\end{array}\n",
        "\\right. \\\\\n",
        "C = \\left\\{\n",
        "    \\begin{array}\\\n",
        "        w-12x+8y-2z \\\\ \n",
        "        8w - x -15y + 3z \\\\\n",
        "        4w -x +13y -6z\n",
        "    \\end{array}\n",
        "\\right. $$\n",
        "\n"
      ],
      "metadata": {
        "id": "ELosMScHNARP"
      }
    },
    {
      "cell_type": "markdown",
      "source": [
        "We can see that A is a two-parameter system comprising two equations. B, on the other hand, is a three-equation system with three parameters. They may be represented as matrices as follows:"
      ],
      "metadata": {
        "id": "0e6lMUZvQckK"
      }
    },
    {
      "cell_type": "markdown",
      "source": [
        "$$\n",
        "A=\\begin{bmatrix} 1 & 1 \\\\ 4 & {-10}\\end{bmatrix} \\\\\n",
        "B=\\begin{bmatrix} 1 & 1 & 1 \\\\ 3 & -2 & -1 \\\\ -1 & 4 & 2\\end{bmatrix}\\\\\n",
        "C=\\begin{bmatrix} 1 & -2 & 3 & -4 \\\\ 3 & -1 & -2 & 1 \\\\ 2 & -1 & 3 & -2 \\end{bmatrix}\n",
        "$$\n"
      ],
      "metadata": {
        "id": "RFkUKdVlOcrl"
      }
    },
    {
      "cell_type": "markdown",
      "source": [
        "Let's assume that you've previously covered the basic representation of matrices, their types, and the operations they perform. Then we may proceed. We'll get to work on them in Python right now."
      ],
      "metadata": {
        "id": "ZQNQmhDWSYbb"
      }
    },
    {
      "cell_type": "markdown",
      "source": [
        "###Declaring Matrices"
      ],
      "metadata": {
        "id": "-uq5hBv9QH9-"
      }
    },
    {
      "cell_type": "markdown",
      "source": [
        "To describe the system of linear equations, we'll use a matrix similar to what we did in our prior laboratory exercise. The entities or numbers that make up matrices are the matrix's elements. A matrix's the list/array-like structure is formed by arranging and ordering these components in rows and columns, creating the list/array structure. These objects are indexed similarly to arrays, based on their row and column numbers. As seen in the equation below, this may be stated mathematically in a number of ways. A, on the other hand, is a matrix containing components indicated by the letters aij. The matrix's row and column counts are indicated by the letters i and j, respectively. It is important to remember that the size of a matrix is *i x j.*"
      ],
      "metadata": {
        "id": "GmCKZeVmQLpg"
      }
    },
    {
      "cell_type": "markdown",
      "source": [
        "$$A=\\begin{bmatrix}\n",
        "a_{(0,0)}&a_{(0,1)}&\\dots&a_{(0,j-1)}\\\\\n",
        "a_{(1,0)}&a_{(1,1)}&\\dots&a_{(1,j-1)}\\\\\n",
        "\\vdots&\\vdots&\\ddots&\\vdots&\\\\\n",
        "a_{(i-1,0)}&a_{(i-1,1)}&\\dots&a_{(i-1,j-1)}\n",
        "\\end{bmatrix}\n",
        "$$\n"
      ],
      "metadata": {
        "id": "27pd8J6NQOuM"
      }
    },
    {
      "cell_type": "markdown",
      "source": [
        "We went over some of the different kinds of matrices as vectors in the last lab activity, but we'll go over them in more detail in this one. Because you already know how to define a vector using the **shape, dimension, and size** properties, we'll utilize those same qualities to examine these matrices in the next section."
      ],
      "metadata": {
        "id": "T1fojUFIWFMm"
      }
    },
    {
      "cell_type": "code",
      "source": [
        "## Since we'll keep on describing kmatrices. Let's make a function."
      ],
      "metadata": {
        "id": "WFKl5yDRW-WD"
      },
      "execution_count": null,
      "outputs": []
    },
    {
      "cell_type": "code",
      "source": [
        "## Since we'll keep on describing kmatrices. Let's make a function.\n",
        "def describe_mat(matrix):\n",
        "    print(f'Matrix:\\n{matrix}\\n\\nShape:\\t{matrix.shape}\\nRank:\\t{matrix.ndim}\\n')\n"
      ],
      "metadata": {
        "id": "CjJYpc_kQYRJ"
      },
      "execution_count": 5,
      "outputs": []
    },
    {
      "cell_type": "code",
      "source": [
        "##Declaring 2 x 2 matrix\n",
        "A = np.array([\n",
        "       [2, 8],\n",
        "       [9, 15]\n",
        "])\n",
        "describe_mat(A)"
      ],
      "metadata": {
        "id": "1_cqYkU6R-Fz"
      },
      "execution_count": null,
      "outputs": []
    },
    {
      "cell_type": "code",
      "source": [
        "G = np.array([\n",
        "    [11,16,25],\n",
        "    [2,8,17]\n",
        "])\n",
        "describe_mat(G)\n"
      ],
      "metadata": {
        "id": "05Pu40_JSQsV",
        "colab": {
          "base_uri": "https://localhost:8080/"
        },
        "outputId": "3e00fcaa-6e8a-43ba-f4d7-5998cf95ec10"
      },
      "execution_count": 8,
      "outputs": [
        {
          "output_type": "stream",
          "name": "stdout",
          "text": [
            "Matrix:\n",
            "[[11 16 25]\n",
            " [ 2  8 17]]\n",
            "\n",
            "Shape:\t(2, 3)\n",
            "Rank:\t2\n",
            "\n"
          ]
        }
      ]
    },
    {
      "cell_type": "code",
      "source": [
        "## Declaring a 3 x 2 matrix\n",
        "B =  np.array([\n",
        "    [8, 2],\n",
        "    [5, 4],\n",
        "    [1, 1]\n",
        "])\n",
        "describe_mat(B)\n"
      ],
      "metadata": {
        "colab": {
          "base_uri": "https://localhost:8080/"
        },
        "id": "yJLXZ_Y7SX1y",
        "outputId": "f86dd9a7-52f2-4d5c-e42a-43dbda3e7812"
      },
      "execution_count": 9,
      "outputs": [
        {
          "output_type": "stream",
          "name": "stdout",
          "text": [
            "Matrix:\n",
            "[[8 2]\n",
            " [5 4]\n",
            " [1 1]]\n",
            "\n",
            "Shape:\t(3, 2)\n",
            "Rank:\t2\n",
            "\n"
          ]
        }
      ]
    },
    {
      "cell_type": "code",
      "source": [
        "H = np.array([1,2,3,4])\n",
        "describe_mat(H)"
      ],
      "metadata": {
        "colab": {
          "base_uri": "https://localhost:8080/"
        },
        "id": "Eccc6KmpSgVA",
        "outputId": "d78601ea-09a7-43ef-fa27-88d70aa2adbe"
      },
      "execution_count": 10,
      "outputs": [
        {
          "output_type": "stream",
          "name": "stdout",
          "text": [
            "Matrix:\n",
            "[1 2 3 4]\n",
            "\n",
            "Shape:\t(4,)\n",
            "Rank:\t1\n",
            "\n"
          ]
        }
      ]
    },
    {
      "cell_type": "markdown",
      "source": [
        "# Categorizing Matrices"
      ],
      "metadata": {
        "id": "3RLG53VBS-L4"
      }
    },
    {
      "cell_type": "markdown",
      "source": [
        "Matrix classification may be accomplished in a variety of ways. One might be following their **element values**, while the other could be by their **shape**. We'll make an effort to go through them."
      ],
      "metadata": {
        "id": "dTZj-d-aaC92"
      }
    },
    {
      "cell_type": "markdown",
      "source": [
        "### According to shape"
      ],
      "metadata": {
        "id": "6H8j81_Wajb9"
      }
    },
    {
      "cell_type": "markdown",
      "source": [
        "### Row and Column Matrices"
      ],
      "metadata": {
        "id": "nQmVhGeha6i_"
      }
    },
    {
      "cell_type": "markdown",
      "source": [
        "In vector and matrix computing, row and column matrices are often encountered. It is possible to use them to represent a larger vector space's row and column spaces. Individual columns or rows represent the row and column matrices, respectively. As a result, the form of row matrices would be* 1 x j*, whereas the shape of column matrices would be *i x 1*, as seen below."
      ],
      "metadata": {
        "id": "EzWGGDkrgjfU"
      }
    },
    {
      "cell_type": "code",
      "source": [
        "## Declaring a Row Matrix\n",
        "\n",
        "rowmatrix1D = np.array([\n",
        "    1, 3, 2, -4\n",
        "]) ## this is a 1-D Matrix with a shape of (3,), it's not really considered as a row matrix.\n",
        "row_mat_2D = np.array([\n",
        "    [1,2,3, -4]\n",
        "]) ## this is a 2-D Matrix with a shape of (1,3)\n",
        "describe_mat(rowmatrix1D)\n",
        "describe_mat(row_mat_2D)\n"
      ],
      "metadata": {
        "colab": {
          "base_uri": "https://localhost:8080/"
        },
        "id": "3Qib7v7cUPaA",
        "outputId": "4e9de38f-1874-4e51-9dac-752ad271cb06"
      },
      "execution_count": 11,
      "outputs": [
        {
          "output_type": "stream",
          "name": "stdout",
          "text": [
            "Matrix:\n",
            "[ 1  3  2 -4]\n",
            "\n",
            "Shape:\t(4,)\n",
            "Rank:\t1\n",
            "\n",
            "Matrix:\n",
            "[[ 1  2  3 -4]]\n",
            "\n",
            "Shape:\t(1, 4)\n",
            "Rank:\t2\n",
            "\n"
          ]
        }
      ]
    },
    {
      "cell_type": "code",
      "source": [
        "col_mat = np.array([\n",
        "    [1],\n",
        "    [2],\n",
        "    [5]\n",
        "]) ## this is a 2-D Matrix with a shape of (3,1)\n",
        "describe_mat(col_mat)\n"
      ],
      "metadata": {
        "id": "gYKKmTH5UbHa",
        "colab": {
          "base_uri": "https://localhost:8080/"
        },
        "outputId": "3b4eb137-0040-432e-c9c3-635fcb5df797"
      },
      "execution_count": 12,
      "outputs": [
        {
          "output_type": "stream",
          "name": "stdout",
          "text": [
            "Matrix:\n",
            "[[1]\n",
            " [2]\n",
            " [5]]\n",
            "\n",
            "Shape:\t(3, 1)\n",
            "Rank:\t2\n",
            "\n"
          ]
        }
      ]
    },
    {
      "cell_type": "markdown",
      "source": [
        "###Square Matrices"
      ],
      "metadata": {
        "id": "ewMVlhzHhtsa"
      }
    },
    {
      "cell_type": "markdown",
      "source": [
        "They have the same row and column sizes as one another, as defined above. If i=j, we may argue that a matrix is square. To determine square matrices, we may modify our matrix descriptor function."
      ],
      "metadata": {
        "id": "dD8MD3wghszZ"
      }
    },
    {
      "cell_type": "code",
      "source": [
        "def describe_mat(matrix):\n",
        "    is_square = True if matrix.shape[0] == matrix.shape[1] else False \n",
        "    print(f'Matrix:\\n{matrix}\\n\\nShape:\\t{matrix.shape}\\nRank:\\t{matrix.ndim}\\nIs Square: {is_square}\\n')\n"
      ],
      "metadata": {
        "id": "ifHtZKeYWbFc"
      },
      "execution_count": 15,
      "outputs": []
    },
    {
      "cell_type": "code",
      "source": [
        "square_mat = np.array([\n",
        "    [1,2,5],\n",
        "    [3,3,8],\n",
        "    [6,1,2]\n",
        "])\n",
        "\n",
        "non_square_mat = np.array([\n",
        "    [1,2,5],\n",
        "    [3,3,8]\n",
        "])\n",
        "describe_mat(square_mat)\n",
        "describe_mat(non_square_mat)\n"
      ],
      "metadata": {
        "id": "KcqRJKIeWe3Z",
        "colab": {
          "base_uri": "https://localhost:8080/"
        },
        "outputId": "7d0e2b48-6b58-4ac7-dceb-1d26d0f95423"
      },
      "execution_count": 16,
      "outputs": [
        {
          "output_type": "stream",
          "name": "stdout",
          "text": [
            "Matrix:\n",
            "[[1 2 5]\n",
            " [3 3 8]\n",
            " [6 1 2]]\n",
            "\n",
            "Shape:\t(3, 3)\n",
            "Rank:\t2\n",
            "Is Square: True\n",
            "\n",
            "Matrix:\n",
            "[[1 2 5]\n",
            " [3 3 8]]\n",
            "\n",
            "Shape:\t(2, 3)\n",
            "Rank:\t2\n",
            "Is Square: False\n",
            "\n"
          ]
        }
      ]
    },
    {
      "cell_type": "markdown",
      "source": [
        "### According to element values"
      ],
      "metadata": {
        "id": "g_HFrXw2iA6o"
      }
    },
    {
      "cell_type": "markdown",
      "source": [
        "### Null Matrix"
      ],
      "metadata": {
        "id": "ftbM_qPwiEk9"
      }
    },
    {
      "cell_type": "markdown",
      "source": [
        "A Null Matrix is a matrix that contains no elements. It is always a subspace of a vector or matrix of any kind of data."
      ],
      "metadata": {
        "id": "OeLCYb9HiHCG"
      }
    },
    {
      "cell_type": "code",
      "source": [
        "def describe_mat(matrix):\n",
        "    if matrix.size > 0:\n",
        "        is_square = True if matrix.shape[0] == matrix.shape[1] else False \n",
        "        print(f'Matrix:\\n{matrix}\\n\\nShape:\\t{matrix.shape}\\nRank:\\t{matrix.ndim}\\nIs Square: {is_square}\\n')\n",
        "    else:\n",
        "        print('Matrix is Null')\n"
      ],
      "metadata": {
        "id": "yQzwPOU3WkQP"
      },
      "execution_count": 18,
      "outputs": []
    },
    {
      "cell_type": "code",
      "source": [
        "null_mat = np.array([])\n",
        "describe_mat(null_mat)\n"
      ],
      "metadata": {
        "id": "4A2lOC1RWnus",
        "colab": {
          "base_uri": "https://localhost:8080/"
        },
        "outputId": "b4e76f9b-ea88-4d14-f858-b283e7db63a8"
      },
      "execution_count": 19,
      "outputs": [
        {
          "output_type": "stream",
          "name": "stdout",
          "text": [
            "Matrix is Null\n"
          ]
        }
      ]
    },
    {
      "cell_type": "markdown",
      "source": [
        "### Zero Matrix"
      ],
      "metadata": {
        "id": "h33GlxoaijVh"
      }
    },
    {
      "cell_type": "markdown",
      "source": [
        "A zero matrix may be any rectangular matrix, but it must have all of its members have the value zero to be considered."
      ],
      "metadata": {
        "id": "jzwsWbT6i-qx"
      }
    },
    {
      "cell_type": "code",
      "source": [
        "zero_mat_row = np.zeros((1,2))\n",
        "zero_mat_sqr = np.zeros((2,2))\n",
        "zero_mat_rct = np.zeros((3,2))\n",
        "\n",
        "print(f'Zero Row Matrix: \\n{zero_mat_row}')\n",
        "print(f'Zero Square Matrix: \\n{zero_mat_sqr}')\n",
        "print(f'Zero Rectangular Matrix: \\n{zero_mat_rct}')"
      ],
      "metadata": {
        "colab": {
          "base_uri": "https://localhost:8080/"
        },
        "id": "JYJp4dHeiwMB",
        "outputId": "d3c26506-d744-442c-c37f-13b54308ee3b"
      },
      "execution_count": 20,
      "outputs": [
        {
          "output_type": "stream",
          "name": "stdout",
          "text": [
            "Zero Row Matrix: \n",
            "[[0. 0.]]\n",
            "Zero Square Matrix: \n",
            "[[0. 0.]\n",
            " [0. 0.]]\n",
            "Zero Rectangular Matrix: \n",
            "[[0. 0.]\n",
            " [0. 0.]\n",
            " [0. 0.]]\n"
          ]
        }
      ]
    },
    {
      "cell_type": "markdown",
      "source": [
        "###Ones Matrix"
      ],
      "metadata": {
        "id": "g5jq9XfZimKe"
      }
    },
    {
      "cell_type": "markdown",
      "source": [
        "One's matrixes are similar in appearance to zero matrices in that they may be any rectangular matrix with all of its elements being one's instead of zero's."
      ],
      "metadata": {
        "id": "ZbB1rq-4XPsD"
      }
    },
    {
      "cell_type": "code",
      "source": [
        "ones_mat_row = np.zeros((1,2))\n",
        "ones_mat_sqr = np.zeros((2,2))\n",
        "ones_mat_rct = np.zeros((3,2))\n",
        "\n",
        "print(f'Ones Row Matrix: \\n{zero_mat_row}')\n",
        "print(f'Ones Square Matrix: \\n{zero_mat_sqr}')\n",
        "print(f'Ones Rectangular Matrix: \\n{zero_mat_rct}')\n"
      ],
      "metadata": {
        "colab": {
          "base_uri": "https://localhost:8080/"
        },
        "id": "ujnJse1gkxtC",
        "outputId": "e7fad3e9-4a5b-4b54-ef1a-bce66deacc9a"
      },
      "execution_count": 21,
      "outputs": [
        {
          "output_type": "stream",
          "name": "stdout",
          "text": [
            "Ones Row Matrix: \n",
            "[[0. 0.]]\n",
            "Ones Square Matrix: \n",
            "[[0. 0.]\n",
            " [0. 0.]]\n",
            "Ones Rectangular Matrix: \n",
            "[[0. 0.]\n",
            " [0. 0.]\n",
            " [0. 0.]]\n"
          ]
        }
      ]
    },
    {
      "cell_type": "markdown",
      "source": [
        "###Diagonal Matrix"
      ],
      "metadata": {
        "id": "0fdRdk4Pk7y-"
      }
    },
    {
      "cell_type": "markdown",
      "source": [
        "It is a square matrix that contains values only on the diagonal of the matrix, which is known as the diagonal matrix."
      ],
      "metadata": {
        "id": "GPQEQD6Tk_Yi"
      }
    },
    {
      "cell_type": "code",
      "source": [
        "np.array([\n",
        "        [2, 0, 0],\n",
        "        [0, 3, 0],\n",
        "        [0, 0, 5]\n",
        "])\n",
        "# a[1, 1], a[2, 2], a[3, 3],  ... a[n-1, n-1]"
      ],
      "metadata": {
        "colab": {
          "base_uri": "https://localhost:8080/"
        },
        "id": "cRspae7clMHA",
        "outputId": "4d5d64d2-8057-4fb5-fb3d-312f4accaa59"
      },
      "execution_count": 23,
      "outputs": [
        {
          "output_type": "execute_result",
          "data": {
            "text/plain": [
              "array([[2, 0, 0],\n",
              "       [0, 3, 0],\n",
              "       [0, 0, 5]])"
            ]
          },
          "metadata": {},
          "execution_count": 23
        }
      ]
    },
    {
      "cell_type": "code",
      "source": [
        "d = np.diag([2,3,5,7])\n",
        "#d.shape[0]==d.shape[1]\n",
        "d"
      ],
      "metadata": {
        "id": "4mDdZq0zYIIg",
        "colab": {
          "base_uri": "https://localhost:8080/"
        },
        "outputId": "78d5e7c1-db9f-4b31-d075-23bd0314a362"
      },
      "execution_count": 24,
      "outputs": [
        {
          "output_type": "execute_result",
          "data": {
            "text/plain": [
              "array([[2, 0, 0, 0],\n",
              "       [0, 3, 0, 0],\n",
              "       [0, 0, 5, 0],\n",
              "       [0, 0, 0, 7]])"
            ]
          },
          "metadata": {},
          "execution_count": 24
        }
      ]
    },
    {
      "cell_type": "markdown",
      "source": [
        "#Identity Matrix"
      ],
      "metadata": {
        "id": "h9lT9T-YYziv"
      }
    },
    {
      "cell_type": "markdown",
      "source": [
        "An identity matrix is a specific diagonal matrix in which the values at the diagonal are all one. An identity matrix may be represented as."
      ],
      "metadata": {
        "id": "ti20-vYEY4dw"
      }
    },
    {
      "cell_type": "code",
      "source": [
        "np.eye(3)"
      ],
      "metadata": {
        "id": "hi8h6hvtY5_m",
        "colab": {
          "base_uri": "https://localhost:8080/"
        },
        "outputId": "afa5bd6b-8df5-4f5b-9432-8749c2a064d5"
      },
      "execution_count": 25,
      "outputs": [
        {
          "output_type": "execute_result",
          "data": {
            "text/plain": [
              "array([[1., 0., 0.],\n",
              "       [0., 1., 0.],\n",
              "       [0., 0., 1.]])"
            ]
          },
          "metadata": {},
          "execution_count": 25
        }
      ]
    },
    {
      "cell_type": "code",
      "source": [
        "np.identity(10)"
      ],
      "metadata": {
        "id": "NxM1hwp2Y9TS",
        "colab": {
          "base_uri": "https://localhost:8080/"
        },
        "outputId": "a8ff4ebd-15ed-4deb-eeae-b51b6b4c9cf7"
      },
      "execution_count": 26,
      "outputs": [
        {
          "output_type": "execute_result",
          "data": {
            "text/plain": [
              "array([[1., 0., 0., 0., 0., 0., 0., 0., 0., 0.],\n",
              "       [0., 1., 0., 0., 0., 0., 0., 0., 0., 0.],\n",
              "       [0., 0., 1., 0., 0., 0., 0., 0., 0., 0.],\n",
              "       [0., 0., 0., 1., 0., 0., 0., 0., 0., 0.],\n",
              "       [0., 0., 0., 0., 1., 0., 0., 0., 0., 0.],\n",
              "       [0., 0., 0., 0., 0., 1., 0., 0., 0., 0.],\n",
              "       [0., 0., 0., 0., 0., 0., 1., 0., 0., 0.],\n",
              "       [0., 0., 0., 0., 0., 0., 0., 1., 0., 0.],\n",
              "       [0., 0., 0., 0., 0., 0., 0., 0., 1., 0.],\n",
              "       [0., 0., 0., 0., 0., 0., 0., 0., 0., 1.]])"
            ]
          },
          "metadata": {},
          "execution_count": 26
        }
      ]
    },
    {
      "cell_type": "markdown",
      "source": [
        "#Upper triangular matrix"
      ],
      "metadata": {
        "id": "gDxvoTApZQaa"
      }
    },
    {
      "cell_type": "markdown",
      "source": [
        "An upper triangular matrix is a matrix which has no values below the diagonal and is composed of three rows and three columns."
      ],
      "metadata": {
        "id": "3YMe4EQUZT8f"
      }
    },
    {
      "cell_type": "code",
      "source": [
        "np.array([\n",
        "          [1,2,3,4],\n",
        "          [0,3,1,-1],\n",
        "          [0,0,1,2],\n",
        "          [0,0,0,2]\n",
        "])"
      ],
      "metadata": {
        "id": "QeO1XV5bZVYi",
        "colab": {
          "base_uri": "https://localhost:8080/"
        },
        "outputId": "676b17d2-b99b-4e1e-fac6-4d1f98796019"
      },
      "execution_count": 28,
      "outputs": [
        {
          "output_type": "execute_result",
          "data": {
            "text/plain": [
              "array([[ 1,  2,  3,  4],\n",
              "       [ 0,  3,  1, -1],\n",
              "       [ 0,  0,  1,  2],\n",
              "       [ 0,  0,  0,  2]])"
            ]
          },
          "metadata": {},
          "execution_count": 28
        }
      ]
    },
    {
      "cell_type": "code",
      "source": [
        "F = np.array([\n",
        "              [2, -3, 4, -5, 6],\n",
        "              [2, -3, 4, -5, 6],\n",
        "              [2, -3, 4, -5, 6],\n",
        "              [2, -3, 4, -5, 6],\n",
        "              [2, -3, 4, -5, 6],\n",
        "])\n",
        "np.triu(F)\n"
      ],
      "metadata": {
        "id": "AlCa-d1AZpNT",
        "colab": {
          "base_uri": "https://localhost:8080/"
        },
        "outputId": "c19006f5-21cb-44c9-b69e-6bced375d3ce"
      },
      "execution_count": 29,
      "outputs": [
        {
          "output_type": "execute_result",
          "data": {
            "text/plain": [
              "array([[ 2, -3,  4, -5,  6],\n",
              "       [ 0, -3,  4, -5,  6],\n",
              "       [ 0,  0,  4, -5,  6],\n",
              "       [ 0,  0,  0, -5,  6],\n",
              "       [ 0,  0,  0,  0,  6]])"
            ]
          },
          "metadata": {},
          "execution_count": 29
        }
      ]
    },
    {
      "cell_type": "code",
      "source": [
        "F = np.array([\n",
        "              [2, -3, 4, -5,6],\n",
        "              [2, -3, 4, -5,6],\n",
        "              [2, -3, 4, -5,6],\n",
        "              [2, -3, 4, -5,6],\n",
        "              [2, -3, 4, -5,6],\n",
        "])\n",
        "np.triu(F)"
      ],
      "metadata": {
        "colab": {
          "base_uri": "https://localhost:8080/"
        },
        "id": "VfQegi8CnVpa",
        "outputId": "667b9e64-f48e-4a44-9749-d1df36485e1e"
      },
      "execution_count": 31,
      "outputs": [
        {
          "output_type": "execute_result",
          "data": {
            "text/plain": [
              "array([[ 2, -3,  4, -5,  6],\n",
              "       [ 0, -3,  4, -5,  6],\n",
              "       [ 0,  0,  4, -5,  6],\n",
              "       [ 0,  0,  0, -5,  6],\n",
              "       [ 0,  0,  0,  0,  6]])"
            ]
          },
          "metadata": {},
          "execution_count": 31
        }
      ]
    },
    {
      "cell_type": "markdown",
      "source": [
        "#Lower Triangular Matrix"
      ],
      "metadata": {
        "id": "-N5SqkB6Zygp"
      }
    },
    {
      "cell_type": "markdown",
      "source": [
        "A lower triangular matrix is a matrix that has no values that are higher than the diagonal of the matrix."
      ],
      "metadata": {
        "id": "xNOigqoPZ8wz"
      }
    },
    {
      "cell_type": "code",
      "source": [
        "np.tril(F)"
      ],
      "metadata": {
        "colab": {
          "base_uri": "https://localhost:8080/"
        },
        "id": "vAzMoVFgoLrt",
        "outputId": "3f3357af-28de-4c8f-f7d0-d880d169c63f"
      },
      "execution_count": 34,
      "outputs": [
        {
          "output_type": "execute_result",
          "data": {
            "text/plain": [
              "array([[ 2,  0,  0,  0,  0],\n",
              "       [ 2, -3,  0,  0,  0],\n",
              "       [ 2, -3,  4,  0,  0],\n",
              "       [ 2, -3,  4, -5,  0],\n",
              "       [ 2, -3,  4, -5,  6]])"
            ]
          },
          "metadata": {},
          "execution_count": 34
        }
      ]
    },
    {
      "cell_type": "code",
      "source": [
        "np.array([\n",
        "          [1,0,0],\n",
        "          [5,3,0],\n",
        "          [7,8,5]\n",
        "])"
      ],
      "metadata": {
        "id": "59ZvRWagZ-xE",
        "colab": {
          "base_uri": "https://localhost:8080/"
        },
        "outputId": "f3e9a09b-39c8-4336-8926-bf9daf0b1433"
      },
      "execution_count": 33,
      "outputs": [
        {
          "output_type": "execute_result",
          "data": {
            "text/plain": [
              "array([[1, 0, 0],\n",
              "       [5, 3, 0],\n",
              "       [7, 8, 5]])"
            ]
          },
          "metadata": {},
          "execution_count": 33
        }
      ]
    }
  ]
}